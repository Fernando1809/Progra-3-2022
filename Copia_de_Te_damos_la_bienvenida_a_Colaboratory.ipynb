{
  "cells": [
    {
      "cell_type": "markdown",
      "metadata": {
        "id": "view-in-github",
        "colab_type": "text"
      },
      "source": [
        "<a href=\"https://colab.research.google.com/github/Fernando1809/Progra-3-2022/blob/main/Copia_de_Te_damos_la_bienvenida_a_Colaboratory.ipynb\" target=\"_parent\"><img src=\"https://colab.research.google.com/assets/colab-badge.svg\" alt=\"Open In Colab\"/></a>"
      ]
    },
    {
      "cell_type": "code",
      "source": [
        "print(\"Hola Mundo \")\n",
        "print(\"Mi nombre es\",\"Fernando Gonzalez\")"
      ],
      "metadata": {
        "id": "BaZJLI7lkA04",
        "outputId": "6eaa17ba-d2d4-4560-eb40-e07e32c09ba5",
        "colab": {
          "base_uri": "https://localhost:8080/"
        }
      },
      "execution_count": null,
      "outputs": [
        {
          "output_type": "stream",
          "name": "stdout",
          "text": [
            "Hola Mundo \n",
            "Mi nombre es Fernando Gonzalez\n"
          ]
        }
      ]
    },
    {
      "cell_type": "code",
      "source": [
        "nombre=\"KingFherxxxo\"\n",
        "print(\"hola\",nombre)\n",
        "\n",
        "edad= 21\n",
        "print(\"Tu edad es:\",edad)"
      ],
      "metadata": {
        "id": "OdI3y7Wsk0qW",
        "outputId": "7ec75554-6d6c-4e6b-d026-a6cff9056880",
        "colab": {
          "base_uri": "https://localhost:8080/"
        }
      },
      "execution_count": null,
      "outputs": [
        {
          "output_type": "stream",
          "name": "stdout",
          "text": [
            "hola KingFherxxxo\n",
            "Tu edad es: 21\n"
          ]
        }
      ]
    },
    {
      "cell_type": "code",
      "source": [
        "nombre=\"Fernando Gonzalez\"\n",
        "print(\"Tu nombre es:\",nombre,\"la longitud de tu nombre:\",len(nombre),\"; las iniciales:\",nombre[0],nombre[9])"
      ],
      "metadata": {
        "id": "FOEhDkaemI-P",
        "outputId": "91287878-7785-45c0-d59a-9cd46e6f1c8a",
        "colab": {
          "base_uri": "https://localhost:8080/"
        }
      },
      "execution_count": null,
      "outputs": [
        {
          "output_type": "stream",
          "name": "stdout",
          "text": [
            "Tu nombre es: Fernando Gonzalez la longitud de tu nombre: 17 ; las iniciales: F G\n"
          ]
        }
      ]
    },
    {
      "cell_type": "code",
      "source": [
        "num1=5\n",
        "num2=4.6\n",
        "resp= num1 + num2\n",
        "print(\"la suma de:\",num1,\"+\",num2,\"es igual a:\",resp,)"
      ],
      "metadata": {
        "id": "4NRfUk2UjIq_",
        "outputId": "bee90f4d-44d3-4545-f085-b1c6dbc7f36c",
        "colab": {
          "base_uri": "https://localhost:8080/"
        }
      },
      "execution_count": null,
      "outputs": [
        {
          "output_type": "stream",
          "name": "stdout",
          "text": [
            "la suma de: 5 + 4.6 es igual a: 9.6\n"
          ]
        }
      ]
    },
    {
      "cell_type": "code",
      "source": [
        "num1=10\n",
        "num2=5.5\n",
        "resp=num1-num2\n",
        "print(\"la resta de:\",num1,\"-\",num2,\"es igual a:\",resp,)"
      ],
      "metadata": {
        "id": "SF9V2GStkmAs",
        "outputId": "cf9b11f9-5bbb-46aa-c2ad-0bd035225e87",
        "colab": {
          "base_uri": "https://localhost:8080/"
        }
      },
      "execution_count": null,
      "outputs": [
        {
          "output_type": "stream",
          "name": "stdout",
          "text": [
            "la resta de: 10 - 5.5 es igual a: 4.5\n"
          ]
        }
      ]
    },
    {
      "cell_type": "code",
      "source": [
        "num1=float(input(\"ingrese un número entero\"))\n",
        "num2=float(input(\"ingrese otro número desimal\"))\n",
        "resp=num1+num2\n",
        "print(\"Suma\",resp)"
      ],
      "metadata": {
        "id": "MxykkiJ_pwPU",
        "colab": {
          "base_uri": "https://localhost:8080/"
        },
        "outputId": "469455c2-537a-4db6-b8fb-e364bea6279b"
      },
      "execution_count": null,
      "outputs": [
        {
          "output_type": "stream",
          "name": "stdout",
          "text": [
            "ingrese un número entero5\n",
            "ingrese otro número desimal4\n",
            "Suma 9.0\n"
          ]
        }
      ]
    },
    {
      "cell_type": "code",
      "source": [
        "nombre=input(\"dime tumobre: \")\n",
        "print(nombre,  type(nombre), len(nombre))\n",
        "\n",
        "print(nombre[0], nombre[1], nombre[2], nombre[3])"
      ],
      "metadata": {
        "id": "2YOrquYkrfHE",
        "colab": {
          "base_uri": "https://localhost:8080/"
        },
        "outputId": "06537ec1-a068-4499-9a4d-bffe3a675e57"
      },
      "execution_count": 9,
      "outputs": [
        {
          "output_type": "stream",
          "name": "stdout",
          "text": [
            "dime tumobre: Fher\n",
            "Fher <class 'str'> 4\n",
            "F h e r\n"
          ]
        }
      ]
    },
    {
      "cell_type": "code",
      "source": [
        "resp=4-4*6/2+1\n",
        "print(resp)"
      ],
      "metadata": {
        "colab": {
          "base_uri": "https://localhost:8080/"
        },
        "id": "ZreL4k4LtGjQ",
        "outputId": "ea92c59e-f927-4b9d-c257-f1197ff3ea79"
      },
      "execution_count": null,
      "outputs": [
        {
          "output_type": "stream",
          "name": "stdout",
          "text": [
            "-7.0\n"
          ]
        }
      ]
    },
    {
      "cell_type": "code",
      "source": [
        "gustaProgramacion=True\n",
        "print(\"Te gusta programar:\",gustaProgramacion)\n",
        "\n",
        "gustaDiseño=False\n",
        "print(\"Te gusta deseñar:\",gustaDiseño)"
      ],
      "metadata": {
        "colab": {
          "base_uri": "https://localhost:8080/"
        },
        "id": "Us84PhIluLW9",
        "outputId": "e9061016-844f-420d-f59b-bdce7cf90c0b"
      },
      "execution_count": null,
      "outputs": [
        {
          "output_type": "stream",
          "name": "stdout",
          "text": [
            "Te gusta programar: True\n",
            "Te gusta deseñar: False\n"
          ]
        }
      ]
    },
    {
      "cell_type": "code",
      "source": [
        "def suma(num1,num2):\n",
        "  return num1 + num2\n",
        "num1=5\n",
        "num2=7\n",
        "print(\"la suma de 5 + 7 =\",suma(num1,num2))\n",
        "  "
      ],
      "metadata": {
        "id": "ZeXXVIn-wG2E",
        "colab": {
          "base_uri": "https://localhost:8080/"
        },
        "outputId": "5b290b91-80ef-42ba-a993-1172480bd1dc"
      },
      "execution_count": 18,
      "outputs": [
        {
          "output_type": "stream",
          "name": "stdout",
          "text": [
            "la suma de 5 + 7 = 12\n"
          ]
        }
      ]
    },
    {
      "cell_type": "code",
      "source": [
        "def suma(num1, num2):\n",
        "  return num1 + num2\n",
        "num1= float(input(\"digite un número: \"))\n",
        "num2=float(input(\"digita otro número: \"))\n",
        "\n",
        "print(\"la suma de:\",suma(num1,num2))"
      ],
      "metadata": {
        "id": "NGfeMa7fw1Qj",
        "colab": {
          "base_uri": "https://localhost:8080/"
        },
        "outputId": "0c753fc5-3292-4b94-b048-e419da53e543"
      },
      "execution_count": 16,
      "outputs": [
        {
          "output_type": "stream",
          "name": "stdout",
          "text": [
            "digite un número: 5\n",
            "digita otro número: 5\n",
            "la suma de: 10.0\n"
          ]
        }
      ]
    }
  ],
  "metadata": {
    "colab": {
      "collapsed_sections": [],
      "name": "Copia de Te damos la bienvenida a Colaboratory",
      "provenance": [],
      "include_colab_link": true
    },
    "kernelspec": {
      "display_name": "Python 3",
      "name": "python3"
    }
  },
  "nbformat": 4,
  "nbformat_minor": 0
}