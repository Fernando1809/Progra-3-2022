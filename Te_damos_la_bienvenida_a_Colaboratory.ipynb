{
  "cells": [
    {
      "cell_type": "markdown",
      "metadata": {
        "id": "view-in-github",
        "colab_type": "text"
      },
      "source": [
        "<a href=\"https://colab.research.google.com/github/Fernando1809/Progra-3-2022/blob/main/Te_damos_la_bienvenida_a_Colaboratory.ipynb\" target=\"_parent\"><img src=\"https://colab.research.google.com/assets/colab-badge.svg\" alt=\"Open In Colab\"/></a>"
      ]
    },
    {
      "cell_type": "code",
      "source": [
        "print(\"Hola Mundo \")\n",
        "print(\"Mi nombre es\",\"Fernando Gonzalez\")"
      ],
      "metadata": {
        "id": "BaZJLI7lkA04",
        "outputId": "6eaa17ba-d2d4-4560-eb40-e07e32c09ba5",
        "colab": {
          "base_uri": "https://localhost:8080/"
        }
      },
      "execution_count": null,
      "outputs": [
        {
          "output_type": "stream",
          "name": "stdout",
          "text": [
            "Hola Mundo \n",
            "Mi nombre es Fernando Gonzalez\n"
          ]
        }
      ]
    },
    {
      "cell_type": "code",
      "source": [
        "nombre=\"KingFherxxxo\"\n",
        "print(\"hola\",nombre)\n",
        "\n",
        "edad= 21\n",
        "print(\"Tu edad es:\",edad)"
      ],
      "metadata": {
        "id": "OdI3y7Wsk0qW",
        "outputId": "7ec75554-6d6c-4e6b-d026-a6cff9056880",
        "colab": {
          "base_uri": "https://localhost:8080/"
        }
      },
      "execution_count": null,
      "outputs": [
        {
          "output_type": "stream",
          "name": "stdout",
          "text": [
            "hola KingFherxxxo\n",
            "Tu edad es: 21\n"
          ]
        }
      ]
    },
    {
      "cell_type": "code",
      "source": [
        "nombre=\"Fernando Gonzalez\"\n",
        "print(\"Tu nombre es:\",nombre,\"la longitud de tu nombre:\",len(nombre),\"; las iniciales:\",nombre[0],nombre[9])"
      ],
      "metadata": {
        "id": "FOEhDkaemI-P",
        "outputId": "91287878-7785-45c0-d59a-9cd46e6f1c8a",
        "colab": {
          "base_uri": "https://localhost:8080/"
        }
      },
      "execution_count": null,
      "outputs": [
        {
          "output_type": "stream",
          "name": "stdout",
          "text": [
            "Tu nombre es: Fernando Gonzalez la longitud de tu nombre: 17 ; las iniciales: F G\n"
          ]
        }
      ]
    },
    {
      "cell_type": "code",
      "source": [
        "num1=5\n",
        "num2=4.6\n",
        "resp= num1 + num2\n",
        "print(\"la suma de:\",num1,\"+\",num2,\"es igual a:\",resp,)"
      ],
      "metadata": {
        "id": "4NRfUk2UjIq_",
        "outputId": "bee90f4d-44d3-4545-f085-b1c6dbc7f36c",
        "colab": {
          "base_uri": "https://localhost:8080/"
        }
      },
      "execution_count": null,
      "outputs": [
        {
          "output_type": "stream",
          "name": "stdout",
          "text": [
            "la suma de: 5 + 4.6 es igual a: 9.6\n"
          ]
        }
      ]
    },
    {
      "cell_type": "code",
      "source": [
        "num1=10\n",
        "num2=5.5\n",
        "resp=num1-num2\n",
        "print(\"la resta de:\",num1,\"-\",num2,\"es igual a:\",resp,)"
      ],
      "metadata": {
        "id": "SF9V2GStkmAs",
        "outputId": "cf9b11f9-5bbb-46aa-c2ad-0bd035225e87",
        "colab": {
          "base_uri": "https://localhost:8080/"
        }
      },
      "execution_count": null,
      "outputs": [
        {
          "output_type": "stream",
          "name": "stdout",
          "text": [
            "la resta de: 10 - 5.5 es igual a: 4.5\n"
          ]
        }
      ]
    },
    {
      "cell_type": "code",
      "source": [
        "num1=float(input(\"ingrese un número entero\"))\n",
        "num2=float(input(\"ingrese otro número desimal\"))\n",
        "resp=num1+num2\n",
        "print(\"Suma\",resp)"
      ],
      "metadata": {
        "id": "MxykkiJ_pwPU",
        "colab": {
          "base_uri": "https://localhost:8080/"
        },
        "outputId": "469455c2-537a-4db6-b8fb-e364bea6279b"
      },
      "execution_count": null,
      "outputs": [
        {
          "output_type": "stream",
          "name": "stdout",
          "text": [
            "ingrese un número entero5\n",
            "ingrese otro número desimal4\n",
            "Suma 9.0\n"
          ]
        }
      ]
    },
    {
      "cell_type": "code",
      "source": [
        "nombre=input(\"dime tumobre: \")\n",
        "print(nombre,  type(nombre), len(nombre))\n",
        "\n",
        "print(nombre[0], nombre[1], nombre[2], nombre[3])"
      ],
      "metadata": {
        "id": "2YOrquYkrfHE",
        "colab": {
          "base_uri": "https://localhost:8080/"
        },
        "outputId": "06537ec1-a068-4499-9a4d-bffe3a675e57"
      },
      "execution_count": null,
      "outputs": [
        {
          "output_type": "stream",
          "name": "stdout",
          "text": [
            "dime tumobre: Fher\n",
            "Fher <class 'str'> 4\n",
            "F h e r\n"
          ]
        }
      ]
    },
    {
      "cell_type": "code",
      "source": [
        "resp=4-4*6/2+1\n",
        "print(resp)"
      ],
      "metadata": {
        "colab": {
          "base_uri": "https://localhost:8080/"
        },
        "id": "ZreL4k4LtGjQ",
        "outputId": "ea92c59e-f927-4b9d-c257-f1197ff3ea79"
      },
      "execution_count": null,
      "outputs": [
        {
          "output_type": "stream",
          "name": "stdout",
          "text": [
            "-7.0\n"
          ]
        }
      ]
    },
    {
      "cell_type": "code",
      "source": [
        "gustaProgramacion=True\n",
        "print(\"Te gusta programar:\",gustaProgramacion)\n",
        "\n",
        "gustaDiseño=False\n",
        "print(\"Te gusta deseñar:\",gustaDiseño)"
      ],
      "metadata": {
        "colab": {
          "base_uri": "https://localhost:8080/"
        },
        "id": "Us84PhIluLW9",
        "outputId": "e9061016-844f-420d-f59b-bdce7cf90c0b"
      },
      "execution_count": null,
      "outputs": [
        {
          "output_type": "stream",
          "name": "stdout",
          "text": [
            "Te gusta programar: True\n",
            "Te gusta deseñar: False\n"
          ]
        }
      ]
    },
    {
      "cell_type": "code",
      "source": [
        "def suma(num1,num2):\n",
        "  return num1 + num2\n",
        "num1=5\n",
        "num2=7\n",
        "print(\"la suma de 5 + 7 =\",suma(num1,num2))\n",
        "  "
      ],
      "metadata": {
        "id": "ZeXXVIn-wG2E",
        "colab": {
          "base_uri": "https://localhost:8080/"
        },
        "outputId": "5b290b91-80ef-42ba-a993-1172480bd1dc"
      },
      "execution_count": null,
      "outputs": [
        {
          "output_type": "stream",
          "name": "stdout",
          "text": [
            "la suma de 5 + 7 = 12\n"
          ]
        }
      ]
    },
    {
      "cell_type": "code",
      "source": [
        "def suma(num1, num2):\n",
        "  return num1 + num2\n",
        "num1= float(input(\"digite un número: \"))\n",
        "num2=float(input(\"digita otro número: \"))\n",
        "\n",
        "print(\"la suma de:\",suma(num1,num2))"
      ],
      "metadata": {
        "id": "NGfeMa7fw1Qj",
        "colab": {
          "base_uri": "https://localhost:8080/"
        },
        "outputId": "eaca3c07-0790-473d-fe97-df9b48374afc"
      },
      "execution_count": null,
      "outputs": [
        {
          "output_type": "stream",
          "name": "stdout",
          "text": [
            "digite un número: 60\n",
            "digita otro número: 60\n",
            "la suma de: 120.0\n"
          ]
        }
      ]
    },
    {
      "cell_type": "markdown",
      "source": [
        "---------------------------------------------------Semana #3: 10/08/22------------------------------------------------------------------"
      ],
      "metadata": {
        "id": "7WQAmjqjmjQX"
      }
    },
    {
      "cell_type": "code",
      "source": [
        "suma=lambda num1,num2:num1+num2"
      ],
      "metadata": {
        "id": "h9-0FHEZhEJU"
      },
      "execution_count": null,
      "outputs": []
    },
    {
      "cell_type": "code",
      "source": [
        "num1=float(input(\"Num1:\"))\n",
        "num2=(float(input(\"Num2:\")))\n",
        "print(\"La repuesta es: \",suma(num1,num2))"
      ],
      "metadata": {
        "colab": {
          "base_uri": "https://localhost:8080/"
        },
        "id": "khH3vaJKgdT3",
        "outputId": "9c663f12-b8a9-4bb6-ed45-53fc3b32f51c"
      },
      "execution_count": null,
      "outputs": [
        {
          "output_type": "stream",
          "name": "stdout",
          "text": [
            "Num1:69\n",
            "Num2:96\n",
            "La repuesta es:  165.0\n"
          ]
        }
      ]
    },
    {
      "cell_type": "code",
      "source": [
        "lista=[7,8,3,2,6]"
      ],
      "metadata": {
        "id": "7o7qcUmFjAeu"
      },
      "execution_count": null,
      "outputs": []
    },
    {
      "cell_type": "code",
      "source": [
        "cuadrado= lambda num:num**2"
      ],
      "metadata": {
        "id": "aUz8f3PJjfHL"
      },
      "execution_count": null,
      "outputs": []
    },
    {
      "cell_type": "code",
      "source": [
        "print(type(cuadrado))"
      ],
      "metadata": {
        "colab": {
          "base_uri": "https://localhost:8080/"
        },
        "id": "K15Gkrfam5XB",
        "outputId": "1c98e8f9-828f-41a8-85df-1395bf5e0d2e"
      },
      "execution_count": null,
      "outputs": [
        {
          "output_type": "stream",
          "name": "stdout",
          "text": [
            "<class 'function'>\n"
          ]
        }
      ]
    },
    {
      "cell_type": "code",
      "source": [
        "cubo= lambda num:num**3"
      ],
      "metadata": {
        "id": "eMW6kREmk2LL"
      },
      "execution_count": null,
      "outputs": []
    },
    {
      "cell_type": "code",
      "source": [
        "potencia=lambda num, n:num**n"
      ],
      "metadata": {
        "id": "Kyja-WVuk-3w"
      },
      "execution_count": null,
      "outputs": []
    },
    {
      "cell_type": "code",
      "source": [
        "print(\"Lista: \",lista,\" al cuadrado: \",list(map(cuadrado,lista)),\"al cubo: \", list(map(cubo, lista)))"
      ],
      "metadata": {
        "colab": {
          "base_uri": "https://localhost:8080/"
        },
        "id": "t5q5OZFRj7ww",
        "outputId": "15d553db-305f-4226-d93a-685296af61c8"
      },
      "execution_count": null,
      "outputs": [
        {
          "output_type": "stream",
          "name": "stdout",
          "text": [
            "Lista:  [7, 8, 3, 2, 6]  al cuadrado:  [49, 64, 9, 4, 36] al cubo:  [343, 512, 27, 8, 216]\n"
          ]
        }
      ]
    },
    {
      "cell_type": "code",
      "source": [
        "print(\" 2 al cubo es: \",potencia(4,5))\n"
      ],
      "metadata": {
        "colab": {
          "base_uri": "https://localhost:8080/"
        },
        "id": "YRzN3cZIlfQh",
        "outputId": "486c48f5-0e4a-4ce0-f2ba-2c2b9f095490"
      },
      "execution_count": null,
      "outputs": [
        {
          "output_type": "stream",
          "name": "stdout",
          "text": [
            " 2 al cubo es:  1024\n"
          ]
        }
      ]
    },
    {
      "cell_type": "code",
      "source": [
        "print(\"Lista original: \",lista,\" al cubo\", list(map(lambda num: num**3,lista)))"
      ],
      "metadata": {
        "colab": {
          "base_uri": "https://localhost:8080/"
        },
        "id": "hi6kOp86mA9v",
        "outputId": "5abca79f-3b88-4090-c0c9-65ab4ff7363e"
      },
      "execution_count": null,
      "outputs": [
        {
          "output_type": "stream",
          "name": "stdout",
          "text": [
            "Lista original:  [7, 8, 3, 2, 6]  al cubo [343, 512, 27, 8, 216]\n"
          ]
        }
      ]
    },
    {
      "cell_type": "code",
      "source": [
        "fpares= lambda num:num%2==0"
      ],
      "metadata": {
        "id": "3IDFc4Qpn5sp"
      },
      "execution_count": null,
      "outputs": []
    },
    {
      "cell_type": "code",
      "source": [
        "finpares=lambda num:num%2!=0"
      ],
      "metadata": {
        "id": "7ht5oqpwpE5n"
      },
      "execution_count": null,
      "outputs": []
    },
    {
      "cell_type": "code",
      "source": [
        "print(\"Lista original: \",lista, \"solo pares: \",list(filter(fpares, lista)),\"Los impares: \",list(filter(finpares, lista)))"
      ],
      "metadata": {
        "colab": {
          "base_uri": "https://localhost:8080/"
        },
        "id": "l7nhH9JnoPpP",
        "outputId": "62eecbb0-2c95-4f07-a610-57f495e43f31"
      },
      "execution_count": null,
      "outputs": [
        {
          "output_type": "stream",
          "name": "stdout",
          "text": [
            "Lista original:  [7, 8, 3, 2, 6] solo pares:  [8, 2, 6] Los impares:  [7, 3]\n"
          ]
        }
      ]
    },
    {
      "cell_type": "code",
      "source": [
        "suma=lambda a,b:a+b"
      ],
      "metadata": {
        "id": "_rtDZnN5towf"
      },
      "execution_count": null,
      "outputs": []
    },
    {
      "cell_type": "code",
      "source": [
        "#import functools #(o te da error o te da la función)\n",
        "print(\"lista original: \",lista,\"la suma: \",functools.reduce(suma,lista),\" media artitmetica: \",functools.reduce(suma,lista)/len(lista))"
      ],
      "metadata": {
        "id": "cd2XbHDUuDVm",
        "outputId": "a9a50419-6822-46d1-ee26-7f8820bcb5b9",
        "colab": {
          "base_uri": "https://localhost:8080/"
        }
      },
      "execution_count": null,
      "outputs": [
        {
          "output_type": "stream",
          "name": "stdout",
          "text": [
            "lista original:  [7, 8, 3, 2, 6] la suma:  26  media artitmetica:  5.2\n"
          ]
        }
      ]
    },
    {
      "cell_type": "code",
      "source": [
        "c= 38"
      ],
      "metadata": {
        "id": "s7_NuHccltAP"
      },
      "execution_count": null,
      "outputs": []
    },
    {
      "cell_type": "code",
      "source": [
        "def convertirCaF(c):\n",
        "  return c*9/5 + 32"
      ],
      "metadata": {
        "id": "0h9VRNKomWtF"
      },
      "execution_count": null,
      "outputs": []
    },
    {
      "cell_type": "code",
      "source": [
        "print(\"Celsius a F: \", convertirCaF(c)) "
      ],
      "metadata": {
        "colab": {
          "base_uri": "https://localhost:8080/"
        },
        "id": "WIPG4yNeoCIu",
        "outputId": "ada12fe7-3507-48d3-f0d7-fec0116fb6a1"
      },
      "execution_count": null,
      "outputs": [
        {
          "output_type": "stream",
          "name": "stdout",
          "text": [
            "Celsius a F:  100.4\n"
          ]
        }
      ]
    },
    {
      "cell_type": "code",
      "source": [
        "gradosCiudades=[27,30, 32, 35, 40, 45]"
      ],
      "metadata": {
        "id": "rmJPMKlYpcnL"
      },
      "execution_count": null,
      "outputs": []
    },
    {
      "cell_type": "code",
      "source": [
        "print(\"C°: \", gradosCiudades, \"C°: \",list(map(convertirCaF, gradosCiudades)))"
      ],
      "metadata": {
        "colab": {
          "base_uri": "https://localhost:8080/"
        },
        "id": "n8OpgDCHp9f9",
        "outputId": "69681731-3489-4cbb-8f33-714fabbf03b6"
      },
      "execution_count": null,
      "outputs": [
        {
          "output_type": "stream",
          "name": "stdout",
          "text": [
            "C°:  [27, 30, 32, 35, 40, 45] C°:  [80.6, 86.0, 89.6, 95.0, 104.0, 113.0]\n"
          ]
        }
      ]
    },
    {
      "cell_type": "code",
      "source": [
        "def convertirFaC(f):\n",
        "  return (f-32) * 5/9"
      ],
      "metadata": {
        "id": "6Q0Z0CszrFvM"
      },
      "execution_count": null,
      "outputs": []
    },
    {
      "cell_type": "code",
      "source": [
        "gradosCiudades2= [80.6, 86.0, 89.6, 95.0, 104.0, 113.0]"
      ],
      "metadata": {
        "id": "tadibrrbrSwT"
      },
      "execution_count": null,
      "outputs": []
    },
    {
      "cell_type": "code",
      "source": [
        "print(\"F°:\", gradosCiudades2, \"C°: \",list(map(convertirFaC, gradosCiudades2)))"
      ],
      "metadata": {
        "colab": {
          "base_uri": "https://localhost:8080/"
        },
        "id": "1H_qsPedrlHV",
        "outputId": "88845738-3c14-4816-cdfe-c4b8548c8d0a"
      },
      "execution_count": null,
      "outputs": [
        {
          "output_type": "stream",
          "name": "stdout",
          "text": [
            "F°: [80.6, 86.0, 89.6, 95.0, 104.0, 113.0] C°:  [26.999999999999996, 30.0, 32.0, 35.0, 40.0, 45.0]\n"
          ]
        }
      ]
    },
    {
      "cell_type": "code",
      "source": [
        "conversor= lambda f:(f-32)*5/9"
      ],
      "metadata": {
        "id": "8oZvrakhvt7d"
      },
      "execution_count": null,
      "outputs": []
    },
    {
      "cell_type": "code",
      "source": [
        "print(\"F°: : \",gradosCiudades2, \"C°: \",list(map(conversor, gradosCiudades2)))"
      ],
      "metadata": {
        "colab": {
          "base_uri": "https://localhost:8080/"
        },
        "id": "_6QXhymHv-2l",
        "outputId": "bf881c47-d8bb-44fc-c2d2-fffddfbf78cc"
      },
      "execution_count": null,
      "outputs": [
        {
          "output_type": "stream",
          "name": "stdout",
          "text": [
            "F°: :  [80.6, 86.0, 89.6, 95.0, 104.0, 113.0] C°:  [26.999999999999996, 30.0, 32.0, 35.0, 40.0, 45.0]\n"
          ]
        }
      ]
    },
    {
      "cell_type": "markdown",
      "source": [
        "**Tarea:**\n",
        "\n",
        "\n",
        "* Hacer un algoritmo en Python que convierta grados celsius a kelvin y\n",
        "viceversa, usando funciones de usuarios y lambda.\n",
        "\n",
        "* Hacer un algoritmo en Python que encuentre la nota final del ciclo de una materia en particular usando funciones de usuario y lambda.\n",
        "\n",
        "\n",
        "\n",
        "\n"
      ],
      "metadata": {
        "id": "efJ06xUzzze0"
      }
    },
    {
      "cell_type": "code",
      "source": [
        "#Conversor de C° a K° (con lambda)\n",
        "def convertirCelKC(c):\n",
        "  return (c+273.15)\n",
        "gradosCiudades3= [26,36, 38, 45, 25, 48]\n",
        "conversor= lambda c:(c+273.15)\n",
        "print(\"C°:  \",gradosCiudades3, \"K°: \",list(map(conversor, gradosCiudades3)))"
      ],
      "metadata": {
        "id": "gtNiAGYqSd3Y",
        "outputId": "f5d55076-015e-4756-c931-f3eb11226d62",
        "colab": {
          "base_uri": "https://localhost:8080/"
        }
      },
      "execution_count": null,
      "outputs": [
        {
          "output_type": "stream",
          "name": "stdout",
          "text": [
            "C°: :  [26, 36, 38, 45, 25, 48] K°:  [299.15, 309.15, 311.15, 318.15, 298.15, 321.15]\n"
          ]
        }
      ]
    },
    {
      "cell_type": "code",
      "source": [
        "#convertir C° a K° (Funcion de usuario)\n",
        "gradosCiudades3=[26,36, 38, 45, 25, 48]\n",
        "print(\"C°: \",gradosCiudades3,\"K°: \",list(map(convertirCelKC, gradosCiudades3)))"
      ],
      "metadata": {
        "id": "mSwXl9MrhHtQ",
        "outputId": "ff4f812d-ee29-4155-925a-6028d4ecff74",
        "colab": {
          "base_uri": "https://localhost:8080/"
        }
      },
      "execution_count": null,
      "outputs": [
        {
          "output_type": "stream",
          "name": "stdout",
          "text": [
            "C°:  [26, 36, 38, 45, 25, 48] K°:  [299.12, 309.12, 311.12, 318.12, 298.12, 321.12]\n"
          ]
        }
      ]
    },
    {
      "cell_type": "code",
      "source": [
        "#Conversor de K° a C° (con lambda)\n",
        "def convertirKelC(k):\n",
        "  return (k-273.15)\n",
        "gradosCiudades4= [1,30, 50, 85, 45, 74]\n",
        "conversor= lambda k:(k-273.15)\n",
        "print(\"K°:  \",gradosCiudades4, \"C°: \",list(map(conversor, gradosCiudades4)))"
      ],
      "metadata": {
        "id": "fM2W2UsrSp3l",
        "outputId": "cc1fc213-ee9c-4a6d-8936-506305d30c30",
        "colab": {
          "base_uri": "https://localhost:8080/"
        }
      },
      "execution_count": null,
      "outputs": [
        {
          "output_type": "stream",
          "name": "stdout",
          "text": [
            "K°:   [1, 30, 50, 85, 45, 74] C°:  [-272.15, -243.14999999999998, -223.14999999999998, -188.14999999999998, -228.14999999999998, -199.14999999999998]\n"
          ]
        }
      ]
    },
    {
      "cell_type": "code",
      "source": [
        "#convertir K° a C° (funcion de usuario)\n",
        "gradosCiudades5=[299.15,309.15,311.15,318.15,298.15,321.12]\n",
        "print(\"K°: \",gradosCiudades5,\"C°: \",list(map(convertirKelC ,gradosCiudades5)))"
      ],
      "metadata": {
        "id": "zq96nhoSigFX",
        "outputId": "d619e9ba-a525-4690-e289-37d801414b46",
        "colab": {
          "base_uri": "https://localhost:8080/"
        }
      },
      "execution_count": null,
      "outputs": [
        {
          "output_type": "stream",
          "name": "stdout",
          "text": [
            "K°:  [299.15, 309.15, 311.15, 318.15, 298.15, 321.12] C°:  [26.0, 36.0, 38.0, 45.0, 25.0, 47.97000000000003]\n"
          ]
        }
      ]
    },
    {
      "cell_type": "code",
      "source": [
        "#Calcular el promedio de notas.\n",
        "\n",
        "#COMPUTO 1\n",
        "L1C1 = 8.50\n",
        "L2C1 = 7.25\n",
        "PC1= 6.20\n",
        "print(\"Laboratorio 1:\",L1C1, \"Laboratorio 2:\",L2C1, \"Parcial:\",PC1)\n",
        "prom1 = (L1C1+L2C1+PC1)*0.35\n",
        "print(\"EL PROMEDIO COMPUTO 1 ES : \",prom1)\n",
        "\n",
        "\n",
        "#COMPUTO 2\n",
        "L1C2=4.75\n",
        "L2C2=7.25\n",
        "PC2=5.50\n",
        "print(\"Laboratorio 1:\",L1C2, \"Laboratorio 2:\",L2C2, \"Parcial:\",PC2)\n",
        "prom2 = (L1C2+L2C2+PC2)*0.35\n",
        "print(\"EL PROMEDIO COMPUTO 2 ES : \",prom2)\n",
        "\n",
        "#COMPUTO 3\n",
        "L1C3=6.45\n",
        "L2C3=8.25\n",
        "PC3=6.50\n",
        "print(\"Laboratorio 1:\",L1C2, \"Laboratorio 2:\",L2C2, \"Parcial:\",PC2)\n",
        "prom3 = (L1C3+L2C3+PC3)*0.30\n",
        "print(\"EL PROMEDIO COMPUTO 3 ES : \",prom3)\n",
        "\n",
        "promF=(prom1+prom2+prom3)/3\n",
        "print(\"Nota final es: \",promF)\n"
      ],
      "metadata": {
        "id": "Y4Rp4enzohDL",
        "outputId": "4bb5cb53-e08d-491e-e0e8-e85d33b41bf2",
        "colab": {
          "base_uri": "https://localhost:8080/"
        }
      },
      "execution_count": null,
      "outputs": [
        {
          "output_type": "stream",
          "name": "stdout",
          "text": [
            "Laboratorio 1: 8.5 Laboratorio 2: 7.25 Parcial: 6.2\n",
            "EL PROMEDIO COMPUTO 1 ES :  7.682499999999999\n",
            "Laboratorio 1: 4.75 Laboratorio 2: 7.25 Parcial: 5.5\n",
            "EL PROMEDIO COMPUTO 2 ES :  6.125\n",
            "Laboratorio 1: 4.75 Laboratorio 2: 7.25 Parcial: 5.5\n",
            "EL PROMEDIO COMPUTO 3 ES :  6.359999999999999\n",
            "Nota final es:  6.722499999999999\n"
          ]
        }
      ]
    },
    {
      "cell_type": "markdown",
      "source": [
        "SEMANA #4:\n"
      ],
      "metadata": {
        "id": "hzlLSm-GqCts"
      }
    },
    {
      "cell_type": "code",
      "source": [
        "edades=(2,5,12,18,65,100) #la tupla es inmutable(no se puede cambiar su valor y se declara com parentesis pero se usa con corchetes)\n",
        "print(edades,\"La edad e bebé es la mejor: \",edades[0])\n",
        "\n"
      ],
      "metadata": {
        "id": "RBb6QjX8qRHG",
        "outputId": "5d2f7554-6af0-4fab-df45-bd7088c08b62",
        "colab": {
          "base_uri": "https://localhost:8080/"
        }
      },
      "execution_count": null,
      "outputs": [
        {
          "output_type": "stream",
          "name": "stdout",
          "text": [
            "(2, 5, 12, 18, 65, 100) La edad e bebé es la mejor:  2\n"
          ]
        }
      ]
    },
    {
      "cell_type": "code",
      "source": [
        "print(\"Edades: \",edades,\"RESPONSABILIDADES: \",tuple(filter(lambda e:e>=18,edades)))\n",
        "print(\"Edades: \",edades,\"Al cuadrado: \",tuple(map(lambda n:n**2,edades)))"
      ],
      "metadata": {
        "id": "TOhacTUlrn7W",
        "outputId": "6a59e79a-b1eb-4baf-8500-5fc6cd1a3deb",
        "colab": {
          "base_uri": "https://localhost:8080/"
        }
      },
      "execution_count": null,
      "outputs": [
        {
          "output_type": "stream",
          "name": "stdout",
          "text": [
            "Edades:  (2, 5, 12, 18, 65, 100) RESPONSABILIDADES:  (18, 65, 100)\n",
            "Edades:  (2, 5, 12, 18, 65, 100) Al cuadrado:  (4, 25, 144, 324, 4225, 10000)\n"
          ]
        }
      ]
    },
    {
      "cell_type": "code",
      "source": [
        "notas=[6,8,10] #Listas,son mutables,es decir, podemos cambiar sus valores y se declaran y usan corchetes\n",
        "print(\"Notas Originales: \",notas)\n",
        "\n",
        "notas[0]=9\n",
        "print(\"Notas: \",notas)"
      ],
      "metadata": {
        "id": "WykmYCKWsubl",
        "outputId": "d5f0d10d-a2fe-470c-fbbf-b43c7be60b5f",
        "colab": {
          "base_uri": "https://localhost:8080/"
        }
      },
      "execution_count": null,
      "outputs": [
        {
          "output_type": "stream",
          "name": "stdout",
          "text": [
            "Notas Originales:  [6, 8, 10]\n",
            "Notas:  [9, 8, 10]\n"
          ]
        }
      ]
    },
    {
      "cell_type": "code",
      "source": [
        "notasProgra=[\n",
        "     [9,8,10],#Computo1\n",
        "     [10,6,9],#Computo2\n",
        "     [10,9,10],#Computo3\n",
        "]\n",
        "print(notasProgra)"
      ],
      "metadata": {
        "id": "QXwTruPttZvu",
        "outputId": "01731bca-d26b-4ea6-88bc-829b8224d655",
        "colab": {
          "base_uri": "https://localhost:8080/"
        }
      },
      "execution_count": null,
      "outputs": [
        {
          "output_type": "stream",
          "name": "stdout",
          "text": [
            "[[9, 8, 10], [10, 6, 9], [10, 9, 10]]\n"
          ]
        }
      ]
    },
    {
      "cell_type": "code",
      "source": [
        "print(\"Lab2 de c1: \",notasProgra[0][1])"
      ],
      "metadata": {
        "id": "ECnT-mUouXaI",
        "outputId": "203c5e5b-9fa3-4b3b-f3c2-c927234a95c7",
        "colab": {
          "base_uri": "https://localhost:8080/"
        }
      },
      "execution_count": null,
      "outputs": [
        {
          "output_type": "stream",
          "name": "stdout",
          "text": [
            "Lab2 de c1:  8\n"
          ]
        }
      ]
    },
    {
      "cell_type": "code",
      "source": [
        "notas=[\n",
        "    [ #PrgraIII\n",
        "     [9,8,[8,9]],#C1\n",
        "     [9,8,9],#C2\n",
        "     [10,9,10],#C3\n",
        "    ],\n",
        "\n",
        "    [#Estadistica\n",
        "      [5,7,10],#C1\n",
        "      [9,8,9],#C2\n",
        "      [10,10,10],#C3\n",
        "     ],\n",
        "    [ #BD\n",
        "      [7,8,9],#C1\n",
        "      [9,8,7],#C2\n",
        "      [10,9,10],#C3\n",
        "    ],\n",
        "    [ #Ingles\n",
        "      [8,9,10],#C1\n",
        "      [9,10,9],#C2\n",
        "      [10,9,10],#C3\n",
        "    ],\n",
        "    [ #Digital\n",
        "      [5,8,7],#C1\n",
        "      [8,7,9],#C2\n",
        "      [9,10,9],#C3\n",
        "    ]\n",
        "]\n",
        "import functools\n",
        "print(\"Lab1 de Estadistica en C1:\", notas[1][0][0],\"Nota Parcial C1 de Progra III: \",functools.reduce(lambda a,b:a+b,notas[0][0][2])/2)"
      ],
      "metadata": {
        "id": "AFITCXLPupA2",
        "outputId": "86550eb6-4913-482b-e899-9df938fab841",
        "colab": {
          "base_uri": "https://localhost:8080/"
        }
      },
      "execution_count": null,
      "outputs": [
        {
          "output_type": "stream",
          "name": "stdout",
          "text": [
            "Lab1 de Estadistica en C1: 5 Nota Parcial C1 de Progra III:  8.5\n"
          ]
        }
      ]
    },
    {
      "cell_type": "code",
      "source": [
        "#Diccionaros (JSON):se declaran con llaves, pero se usan con corchtes\n",
        "misNotas={\n",
        "    \"PrograIII\":{\n",
        "        \"C1\":{\n",
        "            \"Lab1\":9,\"Lab2\":8,\"Parcial\":{\"Parte I\":8,\"Parte II\":9}\n",
        "        },\n",
        "        \"C2\":{\n",
        "            \"Lab1\":9,\"Lab2\":8,\"Parcial\":9\n",
        "        },\n",
        "        \"C3\":{\n",
        "            \"Lab1\":10,\"Lab2\":9,\"Parcial\":10\n",
        "        }\n",
        "    },\"Estadistica\":{\n",
        "        \"C1\":{\n",
        "            \"Lab1\":5,\"Lab2\":7,\"Parcial\":10\n",
        "        },\n",
        "        \"C2\":{\n",
        "            \"Lab1\":10,\"Lab2\":6,\"Parcial\":9\n",
        "        },\n",
        "        \"C3\":{\n",
        "            \"Lab1\":10,\"Lab2\":10,\"Parcial\":10\n",
        "        }\n",
        "     },\"BD\":{\n",
        "    \"C1\":{\n",
        "            \"Lab1\":7,\"Lab2\":8,\"Parcial\":9\n",
        "        },\n",
        "        \"C2\":{\n",
        "            \"Lab1\":9,\"Lab2\":8,\"Parcial\":7\n",
        "        },\n",
        "        \"C3\":{\n",
        "            \"Lab1\":10,\"Lab2\":9,\"Parcial\":10\n",
        "         }\n",
        "      },\"Ingles\":{\n",
        "          \"C1\":{\n",
        "            \"Lab1\":8,\"Lab2\":9,\"Parcial\":10\n",
        "        },\n",
        "        \"C2\":{\n",
        "            \"Lab1\":9,\"Lab2\":10,\"Parcial\":9\n",
        "        },\n",
        "        \"C3\":{\n",
        "            \"Lab1\":10,\"Lab2\":9,\"Parcial\":10\n",
        "         }\n",
        "      },\"Digital\":{\n",
        "          \"C1\":{\n",
        "            \"Lab1\":5,\"Lab2\":8,\"Parcial\":7\n",
        "        },\n",
        "        \"C2\":{\n",
        "            \"Lab1\":8,\"Lab2\":7,\"Parcial\":9\n",
        "        },\n",
        "        \"C3\":{\n",
        "            \"Lab1\":9,\"Lab2\":10,\"Parcial\":9\n",
        "      }\n",
        "   }\n",
        "}\n",
        "\n",
        "print(\"Lab1 en Estadistica: \",misNotas[\"Estadistica\"][\"C1\"][\"Lab1\"])\n",
        "misNotas[\"Estadistica\"][\"C1\"][\"Lab1\"]=float(input(\"Lab1: \"))\n",
        "print(\"Lab1 en Estadistica: \",misNotas[\"Estadistica\"][\"C1\"][\"Lab1\"])"
      ],
      "metadata": {
        "id": "NxWkgDwlyEmc",
        "outputId": "ea873b73-867b-40da-cd3d-4f7f8134d10c",
        "colab": {
          "base_uri": "https://localhost:8080/"
        }
      },
      "execution_count": null,
      "outputs": [
        {
          "output_type": "stream",
          "name": "stdout",
          "text": [
            "Lab1 en Estadistica:  5\n",
            "Lab1: 10\n",
            "Lab1 en Estadistica:  10.0\n"
          ]
        }
      ]
    },
    {
      "cell_type": "code",
      "source": [
        "conversor= lambda ct:ct\n",
        "valores = [\n",
        "           [],\n",
        "           [0,1, 0.98, 24.57, 35.89, 7.73, 8.74, 663.37,19.98,1314.06,1.29], #Monedas\n",
        "           [0,1,100,1000,1e+6,1e+9,0.000621371,1.09361,3.28084,39.3701,0.000539957,0.001],  #Longitud\n",
        "           [0,1,0.001,1000,1e+6,9.8421e-7,1.1023e-6,0.00220462,0.035274,1e-6,0.000157473], #Masa\n",
        "           [0,1,0.125,0.000125,1.25e-7,1.25e-10,1.25e-13,1.25e-16,1.25e-19,1.25e-22,1.25e-25], #Almacenamiento\n",
        "           [0,1,1e+9,0.0166667,0.000277778,1.1574083333e-5,1.653440476142857e-6,3.80517391202858972e-7,3.170981735068493655e-8,3.171e-9,3.171e-10], #Tiempo\n",
        "           [0,1,1000,0.219969,0.879876,1.75975,3.51951,56.3121,168.936,0.0353147,61.0237], #Volumen\n",
        "           [0] #Area\n",
        "]\n",
        "etiquetas = [\n",
        "           [],\n",
        "           [\"1. Dolar\", \"2. Euro\", \"3. Lempira\",\"4. Cordobas\", \"5. Quetzalez\", \"6. Colon SV\", \"7. Colon CR\",\"8.MXN\",\"9.Won Surcoreano\",\"10.Dolar Canadiense\"], #Moneda\n",
        "           [\"1. Metro\",\"2. CM\",\"3. Milimetro\", \"4. Micrómetro\",\"5. Nanómetro\", \"5. Milla\",\"6. Yarda\",\"7. Pie\",\"8. Pulgada\",\"9.Milla Náutica\",\"10.Kilometro\"], #Longitud\n",
        "           [\"1. Gramo\",\"2. Kilogramo\",\"3. Miligramo\", \"4. Microgramo\", \"5. Tonelada Larga\",\"6. Tonelada corta\",\"7. Libra\",\"8.Onza\",\"9.Tonelada\",\"10. Stone\"], #Masa\n",
        "           [\"Bit\",\"Byte\",\"KB\", \"MB\",\"GB\", \"TB\",\"PB\",\"EB\",\"ZB\",\"YB\"], #Almacenamiento\n",
        "           [\"Sg\",\"Nanosg\",\"Minuto\", \"Hora\",\"Día\", \"Semana\",\"Mes\",\"Año Natural\",\"Década\",\"Siglo\"], #Tiempo\n",
        "           [\"Litro\",\"Mililitro\",\"Galón imperial\", \"Cuarto imperial\",\"Pinta imperial\", \"Taza imperial\",\"Cucharada imperial\",\"Cucharadita imperial\",\"Pie cúbico\",\"Pulgada cúbica\"], #Volumen\n",
        "           [] #Area\n",
        "]\n",
        "def convertir(conversor, de, a, cantidad):\n",
        "  return valores[conversor][a]/valores[conversor][de] * cantidad\n",
        "\n",
        "print(\"*** MENU ***\")\n",
        "print(\"* 1. Monedas\")\n",
        "print(\"* 2. Longitud\")\n",
        "print(\"* 3. Masa\")\n",
        "print(\"* 4. Almacenamiento\")\n",
        "print(\"* 5. Tiempo\")\n",
        "print(\"* 6. Volumen\")\n",
        "print(\"* 7. Area\")\n",
        "conversor = int(input(\"Conversor: \"))\n",
        "\n",
        "print( etiquetas[conversor] )\n",
        "\n",
        "de = int(input(\"DE: \"))\n",
        "a = int(input(\"A: \"))\n",
        "cantidad = float(input(\"Cant: \"))\n",
        "\n",
        "print(\"Respuesta: \", convertir(conversor, de, a, cantidad) )\n"
      ],
      "metadata": {
        "id": "JMh8uEAqWTue",
        "outputId": "4180dba6-0adf-4e49-bc94-e7372a78dd25",
        "colab": {
          "base_uri": "https://localhost:8080/"
        }
      },
      "execution_count": null,
      "outputs": [
        {
          "output_type": "stream",
          "name": "stdout",
          "text": [
            "*** MENU ***\n",
            "* 1. Monedas\n",
            "* 2. Longitud\n",
            "* 3. Masa\n",
            "* 4. Almacenamiento\n",
            "* 5. Tiempo\n",
            "* 6. Volumen\n",
            "* 7. Area\n",
            "Conversor: 1\n",
            "['1. Dolar', '2. Euro', '3. Lempira', '4. Cordobas', '5. Quetzalez', '6. Colon SV', '7. Colon CR', '8.MXN', '9.Won Surcoreano', '10.Dolar Canadiense']\n",
            "DE: 1\n",
            "A: 2\n",
            "Cant: 1000\n",
            "Respuesta:  980.0\n"
          ]
        }
      ]
    },
    {
      "cell_type": "code",
      "source": [
        "#Calcular sobresueldo\n",
        "#iss (3%), afp (6,25%), isr(tabla), imprimir sueldo neto y total reducciones.\n",
        "sueldo = float(input('Sueldo:\\n'))\n",
        "isss = sueldo * 0.03\n",
        "afp = sueldo * 0.0625\n",
        "sueldoneto = sueldo - isss - afp\n",
        "\n",
        "tablaIsr = [\n",
        "            [0.01, 472.0, 0, 0],\n",
        "            [472.01, 895.24, 0.01, 17, 67],\n",
        "            [895.25, 2038.10, 0.2, 60],\n",
        "            [2038.11, 999999, 0.3, 288.57]\n",
        "]\n",
        "\n",
        "print(sueldo, 'Deducciones: ', (isss + afp), 'Sueldo Neto: ', sueldoneto)"
      ],
      "metadata": {
        "id": "StsVbAVeWgR8",
        "outputId": "7ceea26d-a80f-44f3-a5ec-8aabe8198e84",
        "colab": {
          "base_uri": "https://localhost:8080/"
        }
      },
      "execution_count": null,
      "outputs": [
        {
          "output_type": "stream",
          "name": "stdout",
          "text": [
            "Sueldo:\n",
            "365\n",
            "365.0 Deducciones:  33.7625 Sueldo Neto:  331.2375\n"
          ]
        }
      ]
    },
    {
      "cell_type": "code",
      "source": [
        "edad=int(input(\"Dime tu edad: \"))\n",
        "if(    edad<=2):\n",
        "  print(\"Eres un bebé\")\n",
        "elif(   edad<12):\n",
        "    print(\"Eres un niño\")\n",
        "elif ( edad<18 ):\n",
        "  print(\"Eres un adolecete\")\n",
        "elif(  edad<=55):\n",
        "  print(\"Eres un adolto joven\")\n",
        "elif(  edad<=65):\n",
        "  print(\"Eres un adolto\")\n",
        "elif(  edad<=85):\n",
        "  print(\"Eres adulto mayor\")\n",
        "elif(  edad<=130):\n",
        "  print(\"Larga vida...\")\n",
        "else:\n",
        "  print(\"Edad incorrecta\")\n",
        "print(\"Termino\")\n"
      ],
      "metadata": {
        "id": "9-N9pX16pwFP",
        "outputId": "161f8332-1652-4c1a-a9d3-21a08a6c05d3",
        "colab": {
          "base_uri": "https://localhost:8080/"
        }
      },
      "execution_count": 13,
      "outputs": [
        {
          "output_type": "stream",
          "name": "stdout",
          "text": [
            "Dime tu edad: 135\n",
            "Edad incorrecta\n",
            "Termino\n"
          ]
        }
      ]
    }
  ],
  "metadata": {
    "colab": {
      "collapsed_sections": [],
      "name": "Copia de Te damos la bienvenida a Colaboratory",
      "provenance": [],
      "include_colab_link": true
    },
    "kernelspec": {
      "display_name": "Python 3",
      "name": "python3"
    }
  },
  "nbformat": 4,
  "nbformat_minor": 0
}