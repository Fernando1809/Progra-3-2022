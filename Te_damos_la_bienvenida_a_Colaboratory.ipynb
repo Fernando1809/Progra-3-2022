{
  "cells": [
    {
      "cell_type": "markdown",
      "metadata": {
        "id": "view-in-github",
        "colab_type": "text"
      },
      "source": [
        "<a href=\"https://colab.research.google.com/github/Fernando1809/Progra-3-2022/blob/main/Te_damos_la_bienvenida_a_Colaboratory.ipynb\" target=\"_parent\"><img src=\"https://colab.research.google.com/assets/colab-badge.svg\" alt=\"Open In Colab\"/></a>"
      ]
    },
    {
      "cell_type": "code",
      "source": [
        "print(\"Hola Mundo \")\n",
        "print(\"Mi nombre es\",\"Fernando Gonzalez\")"
      ],
      "metadata": {
        "id": "BaZJLI7lkA04",
        "outputId": "6eaa17ba-d2d4-4560-eb40-e07e32c09ba5",
        "colab": {
          "base_uri": "https://localhost:8080/"
        }
      },
      "execution_count": null,
      "outputs": [
        {
          "output_type": "stream",
          "name": "stdout",
          "text": [
            "Hola Mundo \n",
            "Mi nombre es Fernando Gonzalez\n"
          ]
        }
      ]
    },
    {
      "cell_type": "code",
      "source": [
        "nombre=\"KingFherxxxo\"\n",
        "print(\"hola\",nombre)\n",
        "\n",
        "edad= 21\n",
        "print(\"Tu edad es:\",edad)"
      ],
      "metadata": {
        "id": "OdI3y7Wsk0qW",
        "outputId": "7ec75554-6d6c-4e6b-d026-a6cff9056880",
        "colab": {
          "base_uri": "https://localhost:8080/"
        }
      },
      "execution_count": null,
      "outputs": [
        {
          "output_type": "stream",
          "name": "stdout",
          "text": [
            "hola KingFherxxxo\n",
            "Tu edad es: 21\n"
          ]
        }
      ]
    },
    {
      "cell_type": "code",
      "source": [
        "nombre=\"Fernando Gonzalez\"\n",
        "print(\"Tu nombre es:\",nombre,\"la longitud de tu nombre:\",len(nombre),\"; las iniciales:\",nombre[0],nombre[9])"
      ],
      "metadata": {
        "id": "FOEhDkaemI-P",
        "outputId": "91287878-7785-45c0-d59a-9cd46e6f1c8a",
        "colab": {
          "base_uri": "https://localhost:8080/"
        }
      },
      "execution_count": null,
      "outputs": [
        {
          "output_type": "stream",
          "name": "stdout",
          "text": [
            "Tu nombre es: Fernando Gonzalez la longitud de tu nombre: 17 ; las iniciales: F G\n"
          ]
        }
      ]
    },
    {
      "cell_type": "code",
      "source": [
        "num1=5\n",
        "num2=4.6\n",
        "resp= num1 + num2\n",
        "print(\"la suma de:\",num1,\"+\",num2,\"es igual a:\",resp,)"
      ],
      "metadata": {
        "id": "4NRfUk2UjIq_",
        "outputId": "bee90f4d-44d3-4545-f085-b1c6dbc7f36c",
        "colab": {
          "base_uri": "https://localhost:8080/"
        }
      },
      "execution_count": null,
      "outputs": [
        {
          "output_type": "stream",
          "name": "stdout",
          "text": [
            "la suma de: 5 + 4.6 es igual a: 9.6\n"
          ]
        }
      ]
    },
    {
      "cell_type": "code",
      "source": [
        "num1=10\n",
        "num2=5.5\n",
        "resp=num1-num2\n",
        "print(\"la resta de:\",num1,\"-\",num2,\"es igual a:\",resp,)"
      ],
      "metadata": {
        "id": "SF9V2GStkmAs",
        "outputId": "cf9b11f9-5bbb-46aa-c2ad-0bd035225e87",
        "colab": {
          "base_uri": "https://localhost:8080/"
        }
      },
      "execution_count": null,
      "outputs": [
        {
          "output_type": "stream",
          "name": "stdout",
          "text": [
            "la resta de: 10 - 5.5 es igual a: 4.5\n"
          ]
        }
      ]
    },
    {
      "cell_type": "code",
      "source": [
        "num1=float(input(\"ingrese un número entero\"))\n",
        "num2=float(input(\"ingrese otro número desimal\"))\n",
        "resp=num1+num2\n",
        "print(\"Suma\",resp)"
      ],
      "metadata": {
        "id": "MxykkiJ_pwPU",
        "colab": {
          "base_uri": "https://localhost:8080/"
        },
        "outputId": "469455c2-537a-4db6-b8fb-e364bea6279b"
      },
      "execution_count": null,
      "outputs": [
        {
          "output_type": "stream",
          "name": "stdout",
          "text": [
            "ingrese un número entero5\n",
            "ingrese otro número desimal4\n",
            "Suma 9.0\n"
          ]
        }
      ]
    },
    {
      "cell_type": "code",
      "source": [
        "nombre=input(\"dime tumobre: \")\n",
        "print(nombre,  type(nombre), len(nombre))\n",
        "\n",
        "print(nombre[0], nombre[1], nombre[2], nombre[3])"
      ],
      "metadata": {
        "id": "2YOrquYkrfHE",
        "colab": {
          "base_uri": "https://localhost:8080/"
        },
        "outputId": "06537ec1-a068-4499-9a4d-bffe3a675e57"
      },
      "execution_count": null,
      "outputs": [
        {
          "output_type": "stream",
          "name": "stdout",
          "text": [
            "dime tumobre: Fher\n",
            "Fher <class 'str'> 4\n",
            "F h e r\n"
          ]
        }
      ]
    },
    {
      "cell_type": "code",
      "source": [
        "resp=4-4*6/2+1\n",
        "print(resp)"
      ],
      "metadata": {
        "colab": {
          "base_uri": "https://localhost:8080/"
        },
        "id": "ZreL4k4LtGjQ",
        "outputId": "ea92c59e-f927-4b9d-c257-f1197ff3ea79"
      },
      "execution_count": null,
      "outputs": [
        {
          "output_type": "stream",
          "name": "stdout",
          "text": [
            "-7.0\n"
          ]
        }
      ]
    },
    {
      "cell_type": "code",
      "source": [
        "gustaProgramacion=True\n",
        "print(\"Te gusta programar:\",gustaProgramacion)\n",
        "\n",
        "gustaDiseño=False\n",
        "print(\"Te gusta deseñar:\",gustaDiseño)"
      ],
      "metadata": {
        "colab": {
          "base_uri": "https://localhost:8080/"
        },
        "id": "Us84PhIluLW9",
        "outputId": "e9061016-844f-420d-f59b-bdce7cf90c0b"
      },
      "execution_count": null,
      "outputs": [
        {
          "output_type": "stream",
          "name": "stdout",
          "text": [
            "Te gusta programar: True\n",
            "Te gusta deseñar: False\n"
          ]
        }
      ]
    },
    {
      "cell_type": "code",
      "source": [
        "def suma(num1,num2):\n",
        "  return num1 + num2\n",
        "num1=5\n",
        "num2=7\n",
        "print(\"la suma de 5 + 7 =\",suma(num1,num2))\n",
        "  "
      ],
      "metadata": {
        "id": "ZeXXVIn-wG2E",
        "colab": {
          "base_uri": "https://localhost:8080/"
        },
        "outputId": "5b290b91-80ef-42ba-a993-1172480bd1dc"
      },
      "execution_count": null,
      "outputs": [
        {
          "output_type": "stream",
          "name": "stdout",
          "text": [
            "la suma de 5 + 7 = 12\n"
          ]
        }
      ]
    },
    {
      "cell_type": "code",
      "source": [
        "def suma(num1, num2):\n",
        "  return num1 + num2\n",
        "num1= float(input(\"digite un número: \"))\n",
        "num2=float(input(\"digita otro número: \"))\n",
        "\n",
        "print(\"la suma de:\",suma(num1,num2))"
      ],
      "metadata": {
        "id": "NGfeMa7fw1Qj",
        "colab": {
          "base_uri": "https://localhost:8080/"
        },
        "outputId": "eaca3c07-0790-473d-fe97-df9b48374afc"
      },
      "execution_count": null,
      "outputs": [
        {
          "output_type": "stream",
          "name": "stdout",
          "text": [
            "digite un número: 60\n",
            "digita otro número: 60\n",
            "la suma de: 120.0\n"
          ]
        }
      ]
    },
    {
      "cell_type": "markdown",
      "source": [
        "---------------------------------------------------Semana #3: 10/08/22------------------------------------------------------------------"
      ],
      "metadata": {
        "id": "7WQAmjqjmjQX"
      }
    },
    {
      "cell_type": "code",
      "source": [
        "suma=lambda num1,num2:num1+num2"
      ],
      "metadata": {
        "id": "h9-0FHEZhEJU"
      },
      "execution_count": null,
      "outputs": []
    },
    {
      "cell_type": "code",
      "source": [
        "num1=float(input(\"Num1:\"))\n",
        "num2=(float(input(\"Num2:\")))\n",
        "print(\"La repuesta es: \",suma(num1,num2))"
      ],
      "metadata": {
        "colab": {
          "base_uri": "https://localhost:8080/"
        },
        "id": "khH3vaJKgdT3",
        "outputId": "9c663f12-b8a9-4bb6-ed45-53fc3b32f51c"
      },
      "execution_count": null,
      "outputs": [
        {
          "output_type": "stream",
          "name": "stdout",
          "text": [
            "Num1:69\n",
            "Num2:96\n",
            "La repuesta es:  165.0\n"
          ]
        }
      ]
    },
    {
      "cell_type": "code",
      "source": [
        "lista=[7,8,3,2,6]"
      ],
      "metadata": {
        "id": "7o7qcUmFjAeu"
      },
      "execution_count": null,
      "outputs": []
    },
    {
      "cell_type": "code",
      "source": [
        "cuadrado= lambda num:num**2"
      ],
      "metadata": {
        "id": "aUz8f3PJjfHL"
      },
      "execution_count": null,
      "outputs": []
    },
    {
      "cell_type": "code",
      "source": [
        "print(type(cuadrado))"
      ],
      "metadata": {
        "colab": {
          "base_uri": "https://localhost:8080/"
        },
        "id": "K15Gkrfam5XB",
        "outputId": "1c98e8f9-828f-41a8-85df-1395bf5e0d2e"
      },
      "execution_count": null,
      "outputs": [
        {
          "output_type": "stream",
          "name": "stdout",
          "text": [
            "<class 'function'>\n"
          ]
        }
      ]
    },
    {
      "cell_type": "code",
      "source": [
        "cubo= lambda num:num**3"
      ],
      "metadata": {
        "id": "eMW6kREmk2LL"
      },
      "execution_count": null,
      "outputs": []
    },
    {
      "cell_type": "code",
      "source": [
        "potencia=lambda num, n:num**n"
      ],
      "metadata": {
        "id": "Kyja-WVuk-3w"
      },
      "execution_count": null,
      "outputs": []
    },
    {
      "cell_type": "code",
      "source": [
        "print(\"Lista: \",lista,\" al cuadrado: \",list(map(cuadrado,lista)),\"al cubo: \", list(map(cubo, lista)))"
      ],
      "metadata": {
        "colab": {
          "base_uri": "https://localhost:8080/"
        },
        "id": "t5q5OZFRj7ww",
        "outputId": "15d553db-305f-4226-d93a-685296af61c8"
      },
      "execution_count": null,
      "outputs": [
        {
          "output_type": "stream",
          "name": "stdout",
          "text": [
            "Lista:  [7, 8, 3, 2, 6]  al cuadrado:  [49, 64, 9, 4, 36] al cubo:  [343, 512, 27, 8, 216]\n"
          ]
        }
      ]
    },
    {
      "cell_type": "code",
      "source": [
        "print(\" 2 al cubo es: \",potencia(4,5))\n"
      ],
      "metadata": {
        "colab": {
          "base_uri": "https://localhost:8080/"
        },
        "id": "YRzN3cZIlfQh",
        "outputId": "486c48f5-0e4a-4ce0-f2ba-2c2b9f095490"
      },
      "execution_count": null,
      "outputs": [
        {
          "output_type": "stream",
          "name": "stdout",
          "text": [
            " 2 al cubo es:  1024\n"
          ]
        }
      ]
    },
    {
      "cell_type": "code",
      "source": [
        "print(\"Lista original: \",lista,\" al cubo\", list(map(lambda num: num**3,lista)))"
      ],
      "metadata": {
        "colab": {
          "base_uri": "https://localhost:8080/"
        },
        "id": "hi6kOp86mA9v",
        "outputId": "5abca79f-3b88-4090-c0c9-65ab4ff7363e"
      },
      "execution_count": null,
      "outputs": [
        {
          "output_type": "stream",
          "name": "stdout",
          "text": [
            "Lista original:  [7, 8, 3, 2, 6]  al cubo [343, 512, 27, 8, 216]\n"
          ]
        }
      ]
    },
    {
      "cell_type": "code",
      "source": [
        "fpares= lambda num:num%2==0"
      ],
      "metadata": {
        "id": "3IDFc4Qpn5sp"
      },
      "execution_count": null,
      "outputs": []
    },
    {
      "cell_type": "code",
      "source": [
        "finpares=lambda num:num%2!=0"
      ],
      "metadata": {
        "id": "7ht5oqpwpE5n"
      },
      "execution_count": null,
      "outputs": []
    },
    {
      "cell_type": "code",
      "source": [
        "print(\"Lista original: \",lista, \"solo pares: \",list(filter(fpares, lista)),\"Los impares: \",list(filter(finpares, lista)))"
      ],
      "metadata": {
        "colab": {
          "base_uri": "https://localhost:8080/"
        },
        "id": "l7nhH9JnoPpP",
        "outputId": "62eecbb0-2c95-4f07-a610-57f495e43f31"
      },
      "execution_count": null,
      "outputs": [
        {
          "output_type": "stream",
          "name": "stdout",
          "text": [
            "Lista original:  [7, 8, 3, 2, 6] solo pares:  [8, 2, 6] Los impares:  [7, 3]\n"
          ]
        }
      ]
    },
    {
      "cell_type": "code",
      "source": [
        "suma=lambda a,b:a+b"
      ],
      "metadata": {
        "id": "_rtDZnN5towf"
      },
      "execution_count": null,
      "outputs": []
    },
    {
      "cell_type": "code",
      "source": [
        "#import functools #(o te da error o te da la función)\n",
        "print(\"lista original: \",lista,\"la suma: \",functools.reduce(suma,lista),\" media artitmetica: \",functools.reduce(suma,lista)/len(lista))"
      ],
      "metadata": {
        "id": "cd2XbHDUuDVm",
        "outputId": "a9a50419-6822-46d1-ee26-7f8820bcb5b9",
        "colab": {
          "base_uri": "https://localhost:8080/"
        }
      },
      "execution_count": null,
      "outputs": [
        {
          "output_type": "stream",
          "name": "stdout",
          "text": [
            "lista original:  [7, 8, 3, 2, 6] la suma:  26  media artitmetica:  5.2\n"
          ]
        }
      ]
    },
    {
      "cell_type": "code",
      "source": [
        "c= 38"
      ],
      "metadata": {
        "id": "s7_NuHccltAP"
      },
      "execution_count": null,
      "outputs": []
    },
    {
      "cell_type": "code",
      "source": [
        "def convertirCaF(c):\n",
        "  return c*9/5 + 32"
      ],
      "metadata": {
        "id": "0h9VRNKomWtF"
      },
      "execution_count": null,
      "outputs": []
    },
    {
      "cell_type": "code",
      "source": [
        "print(\"Celsius a F: \", convertirCaF(c)) "
      ],
      "metadata": {
        "colab": {
          "base_uri": "https://localhost:8080/"
        },
        "id": "WIPG4yNeoCIu",
        "outputId": "ada12fe7-3507-48d3-f0d7-fec0116fb6a1"
      },
      "execution_count": null,
      "outputs": [
        {
          "output_type": "stream",
          "name": "stdout",
          "text": [
            "Celsius a F:  100.4\n"
          ]
        }
      ]
    },
    {
      "cell_type": "code",
      "source": [
        "gradosCiudades=[27,30, 32, 35, 40, 45]"
      ],
      "metadata": {
        "id": "rmJPMKlYpcnL"
      },
      "execution_count": null,
      "outputs": []
    },
    {
      "cell_type": "code",
      "source": [
        "print(\"C°: \", gradosCiudades, \"C°: \",list(map(convertirCaF, gradosCiudades)))"
      ],
      "metadata": {
        "colab": {
          "base_uri": "https://localhost:8080/"
        },
        "id": "n8OpgDCHp9f9",
        "outputId": "69681731-3489-4cbb-8f33-714fabbf03b6"
      },
      "execution_count": null,
      "outputs": [
        {
          "output_type": "stream",
          "name": "stdout",
          "text": [
            "C°:  [27, 30, 32, 35, 40, 45] C°:  [80.6, 86.0, 89.6, 95.0, 104.0, 113.0]\n"
          ]
        }
      ]
    },
    {
      "cell_type": "code",
      "source": [
        "def convertirFaC(f):\n",
        "  return (f-32) * 5/9"
      ],
      "metadata": {
        "id": "6Q0Z0CszrFvM"
      },
      "execution_count": null,
      "outputs": []
    },
    {
      "cell_type": "code",
      "source": [
        "gradosCiudades2= [80.6, 86.0, 89.6, 95.0, 104.0, 113.0]"
      ],
      "metadata": {
        "id": "tadibrrbrSwT"
      },
      "execution_count": null,
      "outputs": []
    },
    {
      "cell_type": "code",
      "source": [
        "print(\"F°:\", gradosCiudades2, \"C°: \",list(map(convertirFaC, gradosCiudades2)))"
      ],
      "metadata": {
        "colab": {
          "base_uri": "https://localhost:8080/"
        },
        "id": "1H_qsPedrlHV",
        "outputId": "88845738-3c14-4816-cdfe-c4b8548c8d0a"
      },
      "execution_count": null,
      "outputs": [
        {
          "output_type": "stream",
          "name": "stdout",
          "text": [
            "F°: [80.6, 86.0, 89.6, 95.0, 104.0, 113.0] C°:  [26.999999999999996, 30.0, 32.0, 35.0, 40.0, 45.0]\n"
          ]
        }
      ]
    },
    {
      "cell_type": "code",
      "source": [
        "conversor= lambda f:(f-32)*5/9"
      ],
      "metadata": {
        "id": "8oZvrakhvt7d"
      },
      "execution_count": null,
      "outputs": []
    },
    {
      "cell_type": "code",
      "source": [
        "print(\"F°: : \",gradosCiudades2, \"C°: \",list(map(conversor, gradosCiudades2)))"
      ],
      "metadata": {
        "colab": {
          "base_uri": "https://localhost:8080/"
        },
        "id": "_6QXhymHv-2l",
        "outputId": "bf881c47-d8bb-44fc-c2d2-fffddfbf78cc"
      },
      "execution_count": null,
      "outputs": [
        {
          "output_type": "stream",
          "name": "stdout",
          "text": [
            "F°: :  [80.6, 86.0, 89.6, 95.0, 104.0, 113.0] C°:  [26.999999999999996, 30.0, 32.0, 35.0, 40.0, 45.0]\n"
          ]
        }
      ]
    },
    {
      "cell_type": "markdown",
      "source": [
        "**Tarea:**\n",
        "\n",
        "\n",
        "* Hacer un algoritmo en Python que convierta grados celsius a kelvin y\n",
        "viceversa, usando funciones de usuarios y lambda.\n",
        "\n",
        "* Hacer un algoritmo en Python que encuentre la nota final del ciclo de una materia en particular usando funciones de usuario y lambda.\n",
        "\n",
        "\n",
        "\n",
        "\n"
      ],
      "metadata": {
        "id": "efJ06xUzzze0"
      }
    },
    {
      "cell_type": "code",
      "source": [
        "#Conversor de C° a K° (con lambda)\n",
        "def convertirCelKC(c):\n",
        "  return (c+273.15)\n",
        "gradosCiudades3= [26,36, 38, 45, 25, 48]\n",
        "conversor= lambda c:(c+273.15)\n",
        "print(\"C°: : \",gradosCiudades3, \"K°: \",list(map(conversor, gradosCiudades3)))"
      ],
      "metadata": {
        "id": "gtNiAGYqSd3Y",
        "outputId": "1df29f38-2fce-45f4-c6cf-0fc6831cde0d",
        "colab": {
          "base_uri": "https://localhost:8080/"
        }
      },
      "execution_count": 1,
      "outputs": [
        {
          "output_type": "stream",
          "name": "stdout",
          "text": [
            "C°: :  [26, 36, 38, 45, 25, 48] K°:  [299.15, 309.15, 311.15, 318.15, 298.15, 321.15]\n"
          ]
        }
      ]
    },
    {
      "cell_type": "code",
      "source": [
        "#Conversor de K° a C° (con lambda)\n",
        "def convertirKelC(k):\n",
        "  return (k-273.15)\n",
        "gradosCiudades4= [1,30, 55, 85, 45, 74]\n",
        "conversor= lambda k:(k-273.15)\n",
        "print(\"K°: : \",gradosCiudades4, \"C°: \",list(map(conversor, gradosCiudades4)))"
      ],
      "metadata": {
        "id": "fM2W2UsrSp3l",
        "outputId": "49b67e3b-d6a0-4ac8-e8ab-9f9744a38160",
        "colab": {
          "base_uri": "https://localhost:8080/"
        }
      },
      "execution_count": 3,
      "outputs": [
        {
          "output_type": "stream",
          "name": "stdout",
          "text": [
            "K°: :  [1, 30, 55, 85, 45, 74] C°:  [-272.15, -243.14999999999998, -218.14999999999998, -188.14999999999998, -228.14999999999998, -199.14999999999998]\n"
          ]
        }
      ]
    }
  ],
  "metadata": {
    "colab": {
      "collapsed_sections": [],
      "name": "Copia de Te damos la bienvenida a Colaboratory",
      "provenance": [],
      "include_colab_link": true
    },
    "kernelspec": {
      "display_name": "Python 3",
      "name": "python3"
    }
  },
  "nbformat": 4,
  "nbformat_minor": 0
}