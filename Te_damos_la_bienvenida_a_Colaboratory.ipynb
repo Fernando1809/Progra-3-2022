{
  "cells": [
    {
      "cell_type": "markdown",
      "metadata": {
        "colab_type": "text",
        "id": "view-in-github"
      },
      "source": [
        "<a href=\"https://colab.research.google.com/github/Fernando1809/Progra-3-2022/blob/main/Te_damos_la_bienvenida_a_Colaboratory.ipynb\" target=\"_parent\"><img src=\"https://colab.research.google.com/assets/colab-badge.svg\" alt=\"Open In Colab\"/></a>"
      ]
    },
    {
      "cell_type": "markdown",
      "metadata": {
        "id": "QJeRCNWNKuB7"
      },
      "source": [
        "#Semana 1"
      ]
    },
    {
      "cell_type": "code",
      "execution_count": null,
      "metadata": {
        "colab": {
          "base_uri": "https://localhost:8080/"
        },
        "id": "BaZJLI7lkA04",
        "outputId": "6eaa17ba-d2d4-4560-eb40-e07e32c09ba5"
      },
      "outputs": [
        {
          "name": "stdout",
          "output_type": "stream",
          "text": [
            "Hola Mundo \n",
            "Mi nombre es Fernando Gonzalez\n"
          ]
        }
      ],
      "source": [
        "print(\"Hola Mundo \")\n",
        "print(\"Mi nombre es\",\"Fernando Gonzalez\")"
      ]
    },
    {
      "cell_type": "code",
      "execution_count": null,
      "metadata": {
        "colab": {
          "base_uri": "https://localhost:8080/"
        },
        "id": "OdI3y7Wsk0qW",
        "outputId": "7ec75554-6d6c-4e6b-d026-a6cff9056880"
      },
      "outputs": [
        {
          "name": "stdout",
          "output_type": "stream",
          "text": [
            "hola KingFherxxxo\n",
            "Tu edad es: 21\n"
          ]
        }
      ],
      "source": [
        "nombre=\"KingFherxxxo\"\n",
        "print(\"hola\",nombre)\n",
        "\n",
        "edad= 21\n",
        "print(\"Tu edad es:\",edad)"
      ]
    },
    {
      "cell_type": "code",
      "execution_count": null,
      "metadata": {
        "colab": {
          "base_uri": "https://localhost:8080/"
        },
        "id": "FOEhDkaemI-P",
        "outputId": "91287878-7785-45c0-d59a-9cd46e6f1c8a"
      },
      "outputs": [
        {
          "name": "stdout",
          "output_type": "stream",
          "text": [
            "Tu nombre es: Fernando Gonzalez la longitud de tu nombre: 17 ; las iniciales: F G\n"
          ]
        }
      ],
      "source": [
        "nombre=\"Fernando Gonzalez\"\n",
        "print(\"Tu nombre es:\",nombre,\"la longitud de tu nombre:\",len(nombre),\"; las iniciales:\",nombre[0],nombre[9])"
      ]
    },
    {
      "cell_type": "code",
      "execution_count": null,
      "metadata": {
        "colab": {
          "base_uri": "https://localhost:8080/"
        },
        "id": "4NRfUk2UjIq_",
        "outputId": "bee90f4d-44d3-4545-f085-b1c6dbc7f36c"
      },
      "outputs": [
        {
          "name": "stdout",
          "output_type": "stream",
          "text": [
            "la suma de: 5 + 4.6 es igual a: 9.6\n"
          ]
        }
      ],
      "source": [
        "num1=5\n",
        "num2=4.6\n",
        "resp= num1 + num2\n",
        "print(\"la suma de:\",num1,\"+\",num2,\"es igual a:\",resp,)"
      ]
    },
    {
      "cell_type": "code",
      "execution_count": null,
      "metadata": {
        "colab": {
          "base_uri": "https://localhost:8080/"
        },
        "id": "SF9V2GStkmAs",
        "outputId": "cf9b11f9-5bbb-46aa-c2ad-0bd035225e87"
      },
      "outputs": [
        {
          "name": "stdout",
          "output_type": "stream",
          "text": [
            "la resta de: 10 - 5.5 es igual a: 4.5\n"
          ]
        }
      ],
      "source": [
        "num1=10\n",
        "num2=5.5\n",
        "resp=num1-num2\n",
        "print(\"la resta de:\",num1,\"-\",num2,\"es igual a:\",resp,)"
      ]
    },
    {
      "cell_type": "code",
      "execution_count": null,
      "metadata": {
        "colab": {
          "base_uri": "https://localhost:8080/"
        },
        "id": "MxykkiJ_pwPU",
        "outputId": "469455c2-537a-4db6-b8fb-e364bea6279b"
      },
      "outputs": [
        {
          "name": "stdout",
          "output_type": "stream",
          "text": [
            "ingrese un número entero5\n",
            "ingrese otro número desimal4\n",
            "Suma 9.0\n"
          ]
        }
      ],
      "source": [
        "num1=float(input(\"ingrese un número entero\"))\n",
        "num2=float(input(\"ingrese otro número desimal\"))\n",
        "resp=num1+num2\n",
        "print(\"Suma\",resp)"
      ]
    },
    {
      "cell_type": "code",
      "execution_count": null,
      "metadata": {
        "colab": {
          "base_uri": "https://localhost:8080/"
        },
        "id": "2YOrquYkrfHE",
        "outputId": "06537ec1-a068-4499-9a4d-bffe3a675e57"
      },
      "outputs": [
        {
          "name": "stdout",
          "output_type": "stream",
          "text": [
            "dime tumobre: Fher\n",
            "Fher <class 'str'> 4\n",
            "F h e r\n"
          ]
        }
      ],
      "source": [
        "nombre=input(\"dime tumobre: \")\n",
        "print(nombre,  type(nombre), len(nombre))\n",
        "\n",
        "print(nombre[0], nombre[1], nombre[2], nombre[3])"
      ]
    },
    {
      "cell_type": "code",
      "execution_count": null,
      "metadata": {
        "colab": {
          "base_uri": "https://localhost:8080/"
        },
        "id": "ZreL4k4LtGjQ",
        "outputId": "ea92c59e-f927-4b9d-c257-f1197ff3ea79"
      },
      "outputs": [
        {
          "name": "stdout",
          "output_type": "stream",
          "text": [
            "-7.0\n"
          ]
        }
      ],
      "source": [
        "resp=4-4*6/2+1\n",
        "print(resp)"
      ]
    },
    {
      "cell_type": "code",
      "execution_count": null,
      "metadata": {
        "colab": {
          "base_uri": "https://localhost:8080/"
        },
        "id": "Us84PhIluLW9",
        "outputId": "e9061016-844f-420d-f59b-bdce7cf90c0b"
      },
      "outputs": [
        {
          "name": "stdout",
          "output_type": "stream",
          "text": [
            "Te gusta programar: True\n",
            "Te gusta deseñar: False\n"
          ]
        }
      ],
      "source": [
        "gustaProgramacion=True\n",
        "print(\"Te gusta programar:\",gustaProgramacion)\n",
        "\n",
        "gustaDiseño=False\n",
        "print(\"Te gusta deseñar:\",gustaDiseño)"
      ]
    },
    {
      "cell_type": "code",
      "execution_count": null,
      "metadata": {
        "colab": {
          "base_uri": "https://localhost:8080/"
        },
        "id": "ZeXXVIn-wG2E",
        "outputId": "5b290b91-80ef-42ba-a993-1172480bd1dc"
      },
      "outputs": [
        {
          "name": "stdout",
          "output_type": "stream",
          "text": [
            "la suma de 5 + 7 = 12\n"
          ]
        }
      ],
      "source": [
        "def suma(num1,num2):\n",
        "  return num1 + num2\n",
        "num1=5\n",
        "num2=7\n",
        "print(\"la suma de 5 + 7 =\",suma(num1,num2))\n",
        "  "
      ]
    },
    {
      "cell_type": "code",
      "execution_count": null,
      "metadata": {
        "colab": {
          "base_uri": "https://localhost:8080/"
        },
        "id": "NGfeMa7fw1Qj",
        "outputId": "eaca3c07-0790-473d-fe97-df9b48374afc"
      },
      "outputs": [
        {
          "name": "stdout",
          "output_type": "stream",
          "text": [
            "digite un número: 60\n",
            "digita otro número: 60\n",
            "la suma de: 120.0\n"
          ]
        }
      ],
      "source": [
        "def suma(num1, num2):\n",
        "  return num1 + num2\n",
        "num1= float(input(\"digite un número: \"))\n",
        "num2=float(input(\"digita otro número: \"))\n",
        "\n",
        "print(\"la suma de:\",suma(num1,num2))"
      ]
    },
    {
      "cell_type": "markdown",
      "metadata": {
        "id": "7WQAmjqjmjQX"
      },
      "source": [
        "#Semana #3: 10/08/22"
      ]
    },
    {
      "cell_type": "code",
      "execution_count": null,
      "metadata": {
        "id": "h9-0FHEZhEJU"
      },
      "outputs": [],
      "source": [
        "suma=lambda num1,num2:num1+num2"
      ]
    },
    {
      "cell_type": "code",
      "execution_count": null,
      "metadata": {
        "colab": {
          "base_uri": "https://localhost:8080/"
        },
        "id": "khH3vaJKgdT3",
        "outputId": "9c663f12-b8a9-4bb6-ed45-53fc3b32f51c"
      },
      "outputs": [
        {
          "name": "stdout",
          "output_type": "stream",
          "text": [
            "Num1:69\n",
            "Num2:96\n",
            "La repuesta es:  165.0\n"
          ]
        }
      ],
      "source": [
        "num1=float(input(\"Num1:\"))\n",
        "num2=(float(input(\"Num2:\")))\n",
        "print(\"La repuesta es: \",suma(num1,num2))"
      ]
    },
    {
      "cell_type": "code",
      "execution_count": null,
      "metadata": {
        "id": "7o7qcUmFjAeu"
      },
      "outputs": [],
      "source": [
        "lista=[7,8,3,2,6]"
      ]
    },
    {
      "cell_type": "code",
      "execution_count": null,
      "metadata": {
        "id": "aUz8f3PJjfHL"
      },
      "outputs": [],
      "source": [
        "cuadrado= lambda num:num**2"
      ]
    },
    {
      "cell_type": "code",
      "execution_count": null,
      "metadata": {
        "colab": {
          "base_uri": "https://localhost:8080/"
        },
        "id": "K15Gkrfam5XB",
        "outputId": "1c98e8f9-828f-41a8-85df-1395bf5e0d2e"
      },
      "outputs": [
        {
          "name": "stdout",
          "output_type": "stream",
          "text": [
            "<class 'function'>\n"
          ]
        }
      ],
      "source": [
        "print(type(cuadrado))"
      ]
    },
    {
      "cell_type": "code",
      "execution_count": null,
      "metadata": {
        "id": "eMW6kREmk2LL"
      },
      "outputs": [],
      "source": [
        "cubo= lambda num:num**3"
      ]
    },
    {
      "cell_type": "code",
      "execution_count": null,
      "metadata": {
        "id": "Kyja-WVuk-3w"
      },
      "outputs": [],
      "source": [
        "potencia=lambda num, n:num**n"
      ]
    },
    {
      "cell_type": "code",
      "execution_count": null,
      "metadata": {
        "colab": {
          "base_uri": "https://localhost:8080/"
        },
        "id": "t5q5OZFRj7ww",
        "outputId": "15d553db-305f-4226-d93a-685296af61c8"
      },
      "outputs": [
        {
          "name": "stdout",
          "output_type": "stream",
          "text": [
            "Lista:  [7, 8, 3, 2, 6]  al cuadrado:  [49, 64, 9, 4, 36] al cubo:  [343, 512, 27, 8, 216]\n"
          ]
        }
      ],
      "source": [
        "print(\"Lista: \",lista,\" al cuadrado: \",list(map(cuadrado,lista)),\"al cubo: \", list(map(cubo, lista)))"
      ]
    },
    {
      "cell_type": "code",
      "execution_count": null,
      "metadata": {
        "colab": {
          "base_uri": "https://localhost:8080/"
        },
        "id": "YRzN3cZIlfQh",
        "outputId": "486c48f5-0e4a-4ce0-f2ba-2c2b9f095490"
      },
      "outputs": [
        {
          "name": "stdout",
          "output_type": "stream",
          "text": [
            " 2 al cubo es:  1024\n"
          ]
        }
      ],
      "source": [
        "print(\" 2 al cubo es: \",potencia(4,5))\n"
      ]
    },
    {
      "cell_type": "code",
      "execution_count": null,
      "metadata": {
        "colab": {
          "base_uri": "https://localhost:8080/"
        },
        "id": "hi6kOp86mA9v",
        "outputId": "5abca79f-3b88-4090-c0c9-65ab4ff7363e"
      },
      "outputs": [
        {
          "name": "stdout",
          "output_type": "stream",
          "text": [
            "Lista original:  [7, 8, 3, 2, 6]  al cubo [343, 512, 27, 8, 216]\n"
          ]
        }
      ],
      "source": [
        "print(\"Lista original: \",lista,\" al cubo\", list(map(lambda num: num**3,lista)))"
      ]
    },
    {
      "cell_type": "code",
      "execution_count": null,
      "metadata": {
        "id": "3IDFc4Qpn5sp"
      },
      "outputs": [],
      "source": [
        "fpares= lambda num:num%2==0"
      ]
    },
    {
      "cell_type": "code",
      "execution_count": null,
      "metadata": {
        "id": "7ht5oqpwpE5n"
      },
      "outputs": [],
      "source": [
        "finpares=lambda num:num%2!=0"
      ]
    },
    {
      "cell_type": "code",
      "execution_count": null,
      "metadata": {
        "colab": {
          "base_uri": "https://localhost:8080/"
        },
        "id": "l7nhH9JnoPpP",
        "outputId": "62eecbb0-2c95-4f07-a610-57f495e43f31"
      },
      "outputs": [
        {
          "name": "stdout",
          "output_type": "stream",
          "text": [
            "Lista original:  [7, 8, 3, 2, 6] solo pares:  [8, 2, 6] Los impares:  [7, 3]\n"
          ]
        }
      ],
      "source": [
        "print(\"Lista original: \",lista, \"solo pares: \",list(filter(fpares, lista)),\"Los impares: \",list(filter(finpares, lista)))"
      ]
    },
    {
      "cell_type": "code",
      "execution_count": null,
      "metadata": {
        "id": "_rtDZnN5towf"
      },
      "outputs": [],
      "source": [
        "suma=lambda a,b:a+b"
      ]
    },
    {
      "cell_type": "code",
      "execution_count": null,
      "metadata": {
        "colab": {
          "base_uri": "https://localhost:8080/"
        },
        "id": "cd2XbHDUuDVm",
        "outputId": "a9a50419-6822-46d1-ee26-7f8820bcb5b9"
      },
      "outputs": [
        {
          "name": "stdout",
          "output_type": "stream",
          "text": [
            "lista original:  [7, 8, 3, 2, 6] la suma:  26  media artitmetica:  5.2\n"
          ]
        }
      ],
      "source": [
        "#import functools #(o te da error o te da la función)\n",
        "print(\"lista original: \",lista,\"la suma: \",functools.reduce(suma,lista),\" media artitmetica: \",functools.reduce(suma,lista)/len(lista))"
      ]
    },
    {
      "cell_type": "code",
      "execution_count": null,
      "metadata": {
        "id": "s7_NuHccltAP"
      },
      "outputs": [],
      "source": [
        "c= 38"
      ]
    },
    {
      "cell_type": "code",
      "execution_count": null,
      "metadata": {
        "id": "0h9VRNKomWtF"
      },
      "outputs": [],
      "source": [
        "def convertirCaF(c):\n",
        "  return c*9/5 + 32"
      ]
    },
    {
      "cell_type": "code",
      "execution_count": null,
      "metadata": {
        "colab": {
          "base_uri": "https://localhost:8080/"
        },
        "id": "WIPG4yNeoCIu",
        "outputId": "ada12fe7-3507-48d3-f0d7-fec0116fb6a1"
      },
      "outputs": [
        {
          "name": "stdout",
          "output_type": "stream",
          "text": [
            "Celsius a F:  100.4\n"
          ]
        }
      ],
      "source": [
        "print(\"Celsius a F: \", convertirCaF(c)) "
      ]
    },
    {
      "cell_type": "code",
      "execution_count": null,
      "metadata": {
        "id": "rmJPMKlYpcnL"
      },
      "outputs": [],
      "source": [
        "gradosCiudades=[27,30, 32, 35, 40, 45]"
      ]
    },
    {
      "cell_type": "code",
      "execution_count": null,
      "metadata": {
        "colab": {
          "base_uri": "https://localhost:8080/"
        },
        "id": "n8OpgDCHp9f9",
        "outputId": "69681731-3489-4cbb-8f33-714fabbf03b6"
      },
      "outputs": [
        {
          "name": "stdout",
          "output_type": "stream",
          "text": [
            "C°:  [27, 30, 32, 35, 40, 45] C°:  [80.6, 86.0, 89.6, 95.0, 104.0, 113.0]\n"
          ]
        }
      ],
      "source": [
        "print(\"C°: \", gradosCiudades, \"C°: \",list(map(convertirCaF, gradosCiudades)))"
      ]
    },
    {
      "cell_type": "code",
      "execution_count": null,
      "metadata": {
        "id": "6Q0Z0CszrFvM"
      },
      "outputs": [],
      "source": [
        "def convertirFaC(f):\n",
        "  return (f-32) * 5/9"
      ]
    },
    {
      "cell_type": "code",
      "execution_count": null,
      "metadata": {
        "id": "tadibrrbrSwT"
      },
      "outputs": [],
      "source": [
        "gradosCiudades2= [80.6, 86.0, 89.6, 95.0, 104.0, 113.0]"
      ]
    },
    {
      "cell_type": "code",
      "execution_count": null,
      "metadata": {
        "colab": {
          "base_uri": "https://localhost:8080/"
        },
        "id": "1H_qsPedrlHV",
        "outputId": "88845738-3c14-4816-cdfe-c4b8548c8d0a"
      },
      "outputs": [
        {
          "name": "stdout",
          "output_type": "stream",
          "text": [
            "F°: [80.6, 86.0, 89.6, 95.0, 104.0, 113.0] C°:  [26.999999999999996, 30.0, 32.0, 35.0, 40.0, 45.0]\n"
          ]
        }
      ],
      "source": [
        "print(\"F°:\", gradosCiudades2, \"C°: \",list(map(convertirFaC, gradosCiudades2)))"
      ]
    },
    {
      "cell_type": "code",
      "execution_count": null,
      "metadata": {
        "id": "8oZvrakhvt7d"
      },
      "outputs": [],
      "source": [
        "conversor= lambda f:(f-32)*5/9"
      ]
    },
    {
      "cell_type": "code",
      "execution_count": null,
      "metadata": {
        "id": "_6QXhymHv-2l"
      },
      "outputs": [],
      "source": [
        "print(\"F°: : \",gradosCiudades2, \"C°: \",list(map(conversor, gradosCiudades2)))"
      ]
    },
    {
      "cell_type": "markdown",
      "metadata": {
        "id": "efJ06xUzzze0"
      },
      "source": [
        "#**Tarea:**\n",
        "\n",
        "\n",
        "* Hacer un algoritmo en Python que convierta grados celsius a kelvin y\n",
        "viceversa, usando funciones de usuarios y lambda.\n",
        "\n",
        "* Hacer un algoritmo en Python que encuentre la nota final del ciclo de una materia en particular usando funciones de usuario y lambda.\n",
        "\n",
        "\n",
        "\n",
        "\n"
      ]
    },
    {
      "cell_type": "code",
      "execution_count": null,
      "metadata": {
        "colab": {
          "base_uri": "https://localhost:8080/"
        },
        "id": "gtNiAGYqSd3Y",
        "outputId": "f5d55076-015e-4756-c931-f3eb11226d62"
      },
      "outputs": [
        {
          "name": "stdout",
          "output_type": "stream",
          "text": [
            "C°: :  [26, 36, 38, 45, 25, 48] K°:  [299.15, 309.15, 311.15, 318.15, 298.15, 321.15]\n"
          ]
        }
      ],
      "source": [
        "#Conversor de C° a K° (con lambda)\n",
        "def convertirCelKC(c):\n",
        "  return (c+273.15)\n",
        "gradosCiudades3= [26,36, 38, 45, 25, 48]\n",
        "conversor= lambda c:(c+273.15)\n",
        "print(\"C°:  \",gradosCiudades3, \"K°: \",list(map(conversor, gradosCiudades3)))"
      ]
    },
    {
      "cell_type": "code",
      "execution_count": null,
      "metadata": {
        "colab": {
          "base_uri": "https://localhost:8080/"
        },
        "id": "mSwXl9MrhHtQ",
        "outputId": "ff4f812d-ee29-4155-925a-6028d4ecff74"
      },
      "outputs": [
        {
          "name": "stdout",
          "output_type": "stream",
          "text": [
            "C°:  [26, 36, 38, 45, 25, 48] K°:  [299.12, 309.12, 311.12, 318.12, 298.12, 321.12]\n"
          ]
        }
      ],
      "source": [
        "#convertir C° a K° (Funcion de usuario)\n",
        "gradosCiudades3=[26,36, 38, 45, 25, 48]\n",
        "print(\"C°: \",gradosCiudades3,\"K°: \",list(map(convertirCelKC, gradosCiudades3)))"
      ]
    },
    {
      "cell_type": "code",
      "execution_count": null,
      "metadata": {
        "colab": {
          "base_uri": "https://localhost:8080/"
        },
        "id": "fM2W2UsrSp3l",
        "outputId": "cc1fc213-ee9c-4a6d-8936-506305d30c30"
      },
      "outputs": [
        {
          "name": "stdout",
          "output_type": "stream",
          "text": [
            "K°:   [1, 30, 50, 85, 45, 74] C°:  [-272.15, -243.14999999999998, -223.14999999999998, -188.14999999999998, -228.14999999999998, -199.14999999999998]\n"
          ]
        }
      ],
      "source": [
        "#Conversor de K° a C° (con lambda)\n",
        "def convertirKelC(k):\n",
        "  return (k-273.15)\n",
        "gradosCiudades4= [1,30, 50, 85, 45, 74]\n",
        "conversor= lambda k:(k-273.15)\n",
        "print(\"K°:  \",gradosCiudades4, \"C°: \",list(map(conversor, gradosCiudades4)))"
      ]
    },
    {
      "cell_type": "code",
      "execution_count": null,
      "metadata": {
        "colab": {
          "base_uri": "https://localhost:8080/"
        },
        "id": "zq96nhoSigFX",
        "outputId": "d619e9ba-a525-4690-e289-37d801414b46"
      },
      "outputs": [
        {
          "name": "stdout",
          "output_type": "stream",
          "text": [
            "K°:  [299.15, 309.15, 311.15, 318.15, 298.15, 321.12] C°:  [26.0, 36.0, 38.0, 45.0, 25.0, 47.97000000000003]\n"
          ]
        }
      ],
      "source": [
        "#convertir K° a C° (funcion de usuario)\n",
        "gradosCiudades5=[299.15,309.15,311.15,318.15,298.15,321.12]\n",
        "print(\"K°: \",gradosCiudades5,\"C°: \",list(map(convertirKelC ,gradosCiudades5)))"
      ]
    },
    {
      "cell_type": "code",
      "execution_count": null,
      "metadata": {
        "colab": {
          "base_uri": "https://localhost:8080/"
        },
        "id": "Y4Rp4enzohDL",
        "outputId": "4bb5cb53-e08d-491e-e0e8-e85d33b41bf2"
      },
      "outputs": [
        {
          "name": "stdout",
          "output_type": "stream",
          "text": [
            "Laboratorio 1: 8.5 Laboratorio 2: 7.25 Parcial: 6.2\n",
            "EL PROMEDIO COMPUTO 1 ES :  7.682499999999999\n",
            "Laboratorio 1: 4.75 Laboratorio 2: 7.25 Parcial: 5.5\n",
            "EL PROMEDIO COMPUTO 2 ES :  6.125\n",
            "Laboratorio 1: 4.75 Laboratorio 2: 7.25 Parcial: 5.5\n",
            "EL PROMEDIO COMPUTO 3 ES :  6.359999999999999\n",
            "Nota final es:  6.722499999999999\n"
          ]
        }
      ],
      "source": [
        "#Calcular el promedio de notas.\n",
        "\n",
        "#COMPUTO 1\n",
        "L1C1 = 8.50\n",
        "L2C1 = 7.25\n",
        "PC1= 6.20\n",
        "print(\"Laboratorio 1:\",L1C1, \"Laboratorio 2:\",L2C1, \"Parcial:\",PC1)\n",
        "prom1 = (L1C1+L2C1+PC1)*0.35\n",
        "print(\"EL PROMEDIO COMPUTO 1 ES : \",prom1)\n",
        "\n",
        "\n",
        "#COMPUTO 2\n",
        "L1C2=4.75\n",
        "L2C2=7.25\n",
        "PC2=5.50\n",
        "print(\"Laboratorio 1:\",L1C2, \"Laboratorio 2:\",L2C2, \"Parcial:\",PC2)\n",
        "prom2 = (L1C2+L2C2+PC2)*0.35\n",
        "print(\"EL PROMEDIO COMPUTO 2 ES : \",prom2)\n",
        "\n",
        "#COMPUTO 3\n",
        "L1C3=6.45\n",
        "L2C3=8.25\n",
        "PC3=6.50\n",
        "print(\"Laboratorio 1:\",L1C2, \"Laboratorio 2:\",L2C2, \"Parcial:\",PC2)\n",
        "prom3 = (L1C3+L2C3+PC3)*0.30\n",
        "print(\"EL PROMEDIO COMPUTO 3 ES : \",prom3)\n",
        "\n",
        "promF=(prom1+prom2+prom3)/3\n",
        "print(\"Nota final es: \",promF)\n"
      ]
    },
    {
      "cell_type": "markdown",
      "metadata": {
        "id": "hzlLSm-GqCts"
      },
      "source": [
        "#SEMANA #4:\n"
      ]
    },
    {
      "cell_type": "code",
      "execution_count": null,
      "metadata": {
        "colab": {
          "base_uri": "https://localhost:8080/"
        },
        "id": "RBb6QjX8qRHG",
        "outputId": "5d2f7554-6af0-4fab-df45-bd7088c08b62"
      },
      "outputs": [
        {
          "name": "stdout",
          "output_type": "stream",
          "text": [
            "(2, 5, 12, 18, 65, 100) La edad e bebé es la mejor:  2\n"
          ]
        }
      ],
      "source": [
        "edades=(2,5,12,18,65,100) #la tupla es inmutable(no se puede cambiar su valor y se declara com parentesis pero se usa con corchetes)\n",
        "print(edades,\"La edad e bebé es la mejor: \",edades[0])\n",
        "\n"
      ]
    },
    {
      "cell_type": "code",
      "execution_count": null,
      "metadata": {
        "colab": {
          "base_uri": "https://localhost:8080/"
        },
        "id": "TOhacTUlrn7W",
        "outputId": "6a59e79a-b1eb-4baf-8500-5fc6cd1a3deb"
      },
      "outputs": [
        {
          "name": "stdout",
          "output_type": "stream",
          "text": [
            "Edades:  (2, 5, 12, 18, 65, 100) RESPONSABILIDADES:  (18, 65, 100)\n",
            "Edades:  (2, 5, 12, 18, 65, 100) Al cuadrado:  (4, 25, 144, 324, 4225, 10000)\n"
          ]
        }
      ],
      "source": [
        "print(\"Edades: \",edades,\"RESPONSABILIDADES: \",tuple(filter(lambda e:e>=18,edades)))\n",
        "print(\"Edades: \",edades,\"Al cuadrado: \",tuple(map(lambda n:n**2,edades)))"
      ]
    },
    {
      "cell_type": "code",
      "execution_count": null,
      "metadata": {
        "colab": {
          "base_uri": "https://localhost:8080/"
        },
        "id": "WykmYCKWsubl",
        "outputId": "d5f0d10d-a2fe-470c-fbbf-b43c7be60b5f"
      },
      "outputs": [
        {
          "name": "stdout",
          "output_type": "stream",
          "text": [
            "Notas Originales:  [6, 8, 10]\n",
            "Notas:  [9, 8, 10]\n"
          ]
        }
      ],
      "source": [
        "notas=[6,8,10] #Listas,son mutables,es decir, podemos cambiar sus valores y se declaran y usan corchetes\n",
        "print(\"Notas Originales: \",notas)\n",
        "\n",
        "notas[0]=9\n",
        "print(\"Notas: \",notas)"
      ]
    },
    {
      "cell_type": "code",
      "execution_count": null,
      "metadata": {
        "colab": {
          "base_uri": "https://localhost:8080/"
        },
        "id": "QXwTruPttZvu",
        "outputId": "01731bca-d26b-4ea6-88bc-829b8224d655"
      },
      "outputs": [
        {
          "name": "stdout",
          "output_type": "stream",
          "text": [
            "[[9, 8, 10], [10, 6, 9], [10, 9, 10]]\n"
          ]
        }
      ],
      "source": [
        "notasProgra=[\n",
        "     [9,8,10],#Computo1\n",
        "     [10,6,9],#Computo2\n",
        "     [10,9,10],#Computo3\n",
        "]\n",
        "print(notasProgra)"
      ]
    },
    {
      "cell_type": "code",
      "execution_count": null,
      "metadata": {
        "colab": {
          "base_uri": "https://localhost:8080/"
        },
        "id": "ECnT-mUouXaI",
        "outputId": "203c5e5b-9fa3-4b3b-f3c2-c927234a95c7"
      },
      "outputs": [
        {
          "name": "stdout",
          "output_type": "stream",
          "text": [
            "Lab2 de c1:  8\n"
          ]
        }
      ],
      "source": [
        "print(\"Lab2 de c1: \",notasProgra[0][1])"
      ]
    },
    {
      "cell_type": "code",
      "execution_count": null,
      "metadata": {
        "colab": {
          "base_uri": "https://localhost:8080/"
        },
        "id": "AFITCXLPupA2",
        "outputId": "86550eb6-4913-482b-e899-9df938fab841"
      },
      "outputs": [
        {
          "name": "stdout",
          "output_type": "stream",
          "text": [
            "Lab1 de Estadistica en C1: 5 Nota Parcial C1 de Progra III:  8.5\n"
          ]
        }
      ],
      "source": [
        "notas=[\n",
        "    [ #PrgraIII\n",
        "     [9,8,[8,9]],#C1\n",
        "     [9,8,9],#C2\n",
        "     [10,9,10],#C3\n",
        "    ],\n",
        "\n",
        "    [#Estadistica\n",
        "      [5,7,10],#C1\n",
        "      [9,8,9],#C2\n",
        "      [10,10,10],#C3\n",
        "     ],\n",
        "    [ #BD\n",
        "      [7,8,9],#C1\n",
        "      [9,8,7],#C2\n",
        "      [10,9,10],#C3\n",
        "    ],\n",
        "    [ #Ingles\n",
        "      [8,9,10],#C1\n",
        "      [9,10,9],#C2\n",
        "      [10,9,10],#C3\n",
        "    ],\n",
        "    [ #Digital\n",
        "      [5,8,7],#C1\n",
        "      [8,7,9],#C2\n",
        "      [9,10,9],#C3\n",
        "    ]\n",
        "]\n",
        "import functools\n",
        "print(\"Lab1 de Estadistica en C1:\", notas[1][0][0],\"Nota Parcial C1 de Progra III: \",functools.reduce(lambda a,b:a+b,notas[0][0][2])/2)"
      ]
    },
    {
      "cell_type": "code",
      "execution_count": null,
      "metadata": {
        "colab": {
          "base_uri": "https://localhost:8080/"
        },
        "id": "NxWkgDwlyEmc",
        "outputId": "ea873b73-867b-40da-cd3d-4f7f8134d10c"
      },
      "outputs": [
        {
          "name": "stdout",
          "output_type": "stream",
          "text": [
            "Lab1 en Estadistica:  5\n",
            "Lab1: 10\n",
            "Lab1 en Estadistica:  10.0\n"
          ]
        }
      ],
      "source": [
        "#Diccionaros (JSON):se declaran con llaves, pero se usan con corchtes\n",
        "misNotas={\n",
        "    \"PrograIII\":{\n",
        "        \"C1\":{\n",
        "            \"Lab1\":9,\"Lab2\":8,\"Parcial\":{\"Parte I\":8,\"Parte II\":9}\n",
        "        },\n",
        "        \"C2\":{\n",
        "            \"Lab1\":9,\"Lab2\":8,\"Parcial\":9\n",
        "        },\n",
        "        \"C3\":{\n",
        "            \"Lab1\":10,\"Lab2\":9,\"Parcial\":10\n",
        "        }\n",
        "    },\"Estadistica\":{\n",
        "        \"C1\":{\n",
        "            \"Lab1\":5,\"Lab2\":7,\"Parcial\":10\n",
        "        },\n",
        "        \"C2\":{\n",
        "            \"Lab1\":10,\"Lab2\":6,\"Parcial\":9\n",
        "        },\n",
        "        \"C3\":{\n",
        "            \"Lab1\":10,\"Lab2\":10,\"Parcial\":10\n",
        "        }\n",
        "     },\"BD\":{\n",
        "    \"C1\":{\n",
        "            \"Lab1\":7,\"Lab2\":8,\"Parcial\":9\n",
        "        },\n",
        "        \"C2\":{\n",
        "            \"Lab1\":9,\"Lab2\":8,\"Parcial\":7\n",
        "        },\n",
        "        \"C3\":{\n",
        "            \"Lab1\":10,\"Lab2\":9,\"Parcial\":10\n",
        "         }\n",
        "      },\"Ingles\":{\n",
        "          \"C1\":{\n",
        "            \"Lab1\":8,\"Lab2\":9,\"Parcial\":10\n",
        "        },\n",
        "        \"C2\":{\n",
        "            \"Lab1\":9,\"Lab2\":10,\"Parcial\":9\n",
        "        },\n",
        "        \"C3\":{\n",
        "            \"Lab1\":10,\"Lab2\":9,\"Parcial\":10\n",
        "         }\n",
        "      },\"Digital\":{\n",
        "          \"C1\":{\n",
        "            \"Lab1\":5,\"Lab2\":8,\"Parcial\":7\n",
        "        },\n",
        "        \"C2\":{\n",
        "            \"Lab1\":8,\"Lab2\":7,\"Parcial\":9\n",
        "        },\n",
        "        \"C3\":{\n",
        "            \"Lab1\":9,\"Lab2\":10,\"Parcial\":9\n",
        "      }\n",
        "   }\n",
        "}\n",
        "\n",
        "print(\"Lab1 en Estadistica: \",misNotas[\"Estadistica\"][\"C1\"][\"Lab1\"])\n",
        "misNotas[\"Estadistica\"][\"C1\"][\"Lab1\"]=float(input(\"Lab1: \"))\n",
        "print(\"Lab1 en Estadistica: \",misNotas[\"Estadistica\"][\"C1\"][\"Lab1\"])"
      ]
    },
    {
      "cell_type": "markdown",
      "metadata": {
        "id": "URxVEhQPImbq"
      },
      "source": [
        "#Ejercico 1"
      ]
    },
    {
      "cell_type": "code",
      "execution_count": null,
      "metadata": {
        "colab": {
          "base_uri": "https://localhost:8080/"
        },
        "id": "3KhFIgaQH_vA",
        "outputId": "a50ac214-2533-4c54-f895-9774997d0ef3"
      },
      "outputs": [
        {
          "name": "stdout",
          "output_type": "stream",
          "text": [
            "Ingrese un sueldo: 365\n",
            "Su sueldo es:  331.2375\n"
          ]
        }
      ],
      "source": [
        "#iss (3%), afp (6,25%), isr(tabla), imprimir sueldo neto y total reducciones.\n",
        "sueldo = float (input(\"Ingrese un sueldo: \"))\n",
        "\n",
        "def Sueldo(sueldo):\n",
        "  return sueldo - (sueldo * 0.03 + sueldo * 0.0625)\n",
        "\n",
        "def Sueldo2(sueldo):\n",
        "  return (((sueldo - (sueldo * 0.03 + sueldo * 0.0625)) - 472.00) * 0.10) + 17.67\n",
        "\n",
        "def Sueldo3(sueldo):\n",
        "  return (((sueldo - (sueldo * 0.03 + sueldo * 0.0625)) - 895.24) * 0.20) + 60.00\n",
        "\n",
        "def Sueldo4(sueldo):\n",
        "  return (((sueldo - (sueldo * 0.03 + sueldo * 0.0625)) - 2038.10) * 0.30) + 288.57\n",
        "\n",
        "suel = Sueldo(sueldo)\n",
        "\n",
        "suel2 = Sueldo2(sueldo)\n",
        "\n",
        "suel3 = Sueldo3(sueldo)\n",
        "\n",
        "suel4 = Sueldo4(sueldo)\n",
        "\n",
        "if sueldo <= 472.00:\n",
        "  print(\"Su sueldo es: \", suel)\n",
        "\n",
        "if sueldo >= 472.01 and sueldo <= 895.24: \n",
        "  print(\"En su sueldo de: \", sueldo, \", el descuento de impuesto de renta es: \", suel2)\n",
        "\n",
        "if sueldo >= 895.25 and sueldo <= 2038.10: \n",
        "  print(\"En su sueldo de: \", sueldo, \", el descuento de impuesto de renta es: \", suel3)\n",
        "\n",
        "if sueldo >= 2038.10: \n",
        "  print(\"En su sueldo de: \", sueldo, \", el descuento de impuesto de renta es: \", suel4)\n",
        "\n"
      ]
    },
    {
      "cell_type": "markdown",
      "metadata": {
        "id": "JIUVLnmZJTH-"
      },
      "source": [
        "#Ejercicio 2"
      ]
    },
    {
      "cell_type": "code",
      "execution_count": null,
      "metadata": {
        "colab": {
          "base_uri": "https://localhost:8080/"
        },
        "id": "SNZWIGwhJVNf",
        "outputId": "a51d084a-2d31-49a9-a995-dec7ea3a4b00"
      },
      "outputs": [
        {
          "name": "stdout",
          "output_type": "stream",
          "text": [
            "Ingrese número de metros: 900\n",
            "En 900 metros Usted tiene que pagar $ 577.3000000000001\n"
          ]
        }
      ],
      "source": [
        "metros = int(input(\"Ingrese número de metros: \"))\n",
        "\n",
        "def cuota(metros):\n",
        "  return 6\n",
        "\n",
        "def cuota2(metros):\n",
        "  return ((metros - 18) * 0.45) + 6\n",
        "\n",
        "def cuota3(metros):\n",
        "  return ((metros - 28) * 0.65) + ((28 - 18) * 0.45) + 6 \n",
        "\n",
        "cuo1 = cuota(metros)\n",
        "\n",
        "cuo2 = cuota2(metros)\n",
        "\n",
        "cuo3 = cuota3(metros)\n",
        "\n",
        "if metros >=1 and metros <= 18:\n",
        "  print(\"En\", metros,\"metro/os\" \" Usted tiene que pagar $\", cuo1)\n",
        "\n",
        "if metros >=19 and metros <= 28:\n",
        "  print(\"En\", metros,\"metros\" \" Usted tiene que pagar $\", cuo2)\n",
        "\n",
        "if metros >=29:\n",
        "  print(\"En\", metros,\"metros\" \" Usted tiene que pagar $\", cuo3)"
      ]
    },
    {
      "cell_type": "markdown",
      "metadata": {
        "id": "yZ34mvrLJmXd"
      },
      "source": [
        "#Ejercicio 3"
      ]
    },
    {
      "cell_type": "code",
      "execution_count": null,
      "metadata": {
        "colab": {
          "base_uri": "https://localhost:8080/"
        },
        "id": "9bAVUz87JodB",
        "outputId": "46e9f782-d89a-4a3d-910b-1d7954642124"
      },
      "outputs": [
        {
          "name": "stdout",
          "output_type": "stream",
          "text": [
            "Ingrese un número: \n",
            "6\n",
            "1\n",
            "El valor acumulado es:  1\n",
            "2\n",
            "El valor acumulado es:  3\n",
            "3\n",
            "El valor acumulado es:  6\n",
            "4\n",
            "El valor acumulado es:  10\n",
            "5\n",
            "El valor acumulado es:  15\n",
            "6\n",
            "El valor acumulado es:  21\n"
          ]
        }
      ],
      "source": [
        "print(\"Ingrese un número: \")\n",
        "a = int(input())\n",
        "b = 0\n",
        "for i in range(1, a+1):\n",
        "  print(i)\n",
        "  b=b+i\n",
        "  print(\"El valor acumulado es: \", b)"
      ]
    },
    {
      "cell_type": "markdown",
      "metadata": {
        "id": "NjPth2YZJ2X_"
      },
      "source": [
        "#Ejercicio 4"
      ]
    },
    {
      "cell_type": "code",
      "execution_count": null,
      "metadata": {
        "colab": {
          "base_uri": "https://localhost:8080/"
        },
        "id": "JMh8uEAqWTue",
        "outputId": "33348b17-c3b7-4266-b5ff-f7b9c7f30b0a"
      },
      "outputs": [
        {
          "name": "stdout",
          "output_type": "stream",
          "text": [
            "*** MENU ***\n",
            "* 1. Monedas\n",
            "* 2. Longitud\n",
            "* 3. Masa\n",
            "* 4. Almacenamiento\n",
            "* 5. Tiempo\n",
            "* 6. Volumen\n",
            "* 7. Area\n",
            "Conversor: 7\n",
            "['1. Metro cuadrado', '2. Kilómetro cuadrado', '3. Hectárea', '4. Área', '5. Decímetro cuadrado', '6. Centímetro cuadrado', '7. Milímetro cuadrado', '8. Yarda cuadrada', '9. Pie cuadrado', '10. Pulgada cuadrada']\n",
            "DE: 1\n",
            "A: 2\n",
            "Cant: 1\n",
            "Respuesta:  1e-06\n"
          ]
        }
      ],
      "source": [
        "#CONVERSOR\n",
        "conversor= lambda ct:ct\n",
        "valores = [\n",
        "           0,\n",
        "           [0,1, 0.98, 24.49, 35.96, 7.73, 8.75, 663.37,19.98,1314.06,1.29], #Monedas\n",
        "           [0,1,100,1000,1e+6,1e+9,0.000621371,1.09361,3.28084,39.3701,0.000539957,0.001],  #Longitud\n",
        "           [0,1,0.001,1000,1e+6,9.8421e-7,1.1023e-6,0.00220462,0.035274,1e-6,0.000157473], #Masa\n",
        "           [0,1,0.125,0.000125,1.25e-7,1.25e-10,1.25e-13,1.25e-16,1.25e-19,1.25e-22,1.25e-25], #Almacenamiento\n",
        "           [0,1,1e+9,0.0166667,0.000277778,1.1574083333e-5,1.653440476142857e-6,3.80517391202858972e-7,3.170981735068493655e-8,3.171e-9,3.171e-10], #Tiempo\n",
        "           [0,1,1000,0.219969,0.879876,1.75975,3.51951,56.3121,168.936,0.0353147,61.0237], #Volumen\n",
        "           [0, 1, 0.000001, 0.0001, 0.01, 100, 10000, 1000000, 1.2, 10.76, 1550] #Area\n",
        "]\n",
        "etiquetas = [\n",
        "           [],\n",
        "           [\"1. Dolar\", \"2. Euro\", \"3. Lempira\",\"4. Cordobas\", \"5. Quetzalez\", \"6. Colon SV\", \"7. Colon CR\",\"8.MXN\",\"9.Won Surcoreano\",\"10.Dolar Canadiense\"], #Moneda\n",
        "           [\"1. Metro\",\"2. CM\",\"3. Milimetro\", \"4. Micrómetro\",\"5. Nanómetro\", \"5. Milla\",\"6. Yarda\",\"7. Pie\",\"8. Pulgada\",\"9.Milla Náutica\",\"10.Kilometro\"], #Longitud\n",
        "           [\"1. Gramo\",\"2. Kilogramo\",\"3. Miligramo\", \"4. Microgramo\", \"5. Tonelada Larga\",\"6. Tonelada corta\",\"7. Libra\",\"8.Onza\",\"9.Tonelada\",\"10. Stone\"], #Masa\n",
        "           [\"Bit\",\"Byte\",\"KB\", \"MB\",\"GB\", \"TB\",\"PB\",\"EB\",\"ZB\",\"YB\"], #Almacenamiento\n",
        "           [\"Sg\",\"Nanosg\",\"Minuto\", \"Hora\",\"Día\", \"Semana\",\"Mes\",\"Año Natural\",\"Década\",\"Siglo\"], #Tiempo\n",
        "           [\"Litro\",\"Mililitro\",\"Galón imperial\", \"Cuarto imperial\",\"Pinta imperial\", \"Taza imperial\",\"Cucharada imperial\",\"Cucharadita imperial\",\"Pie cúbico\",\"Pulgada cúbica\"], #Volumen\n",
        "           [\"1. Metro cuadrado\", \"2. Kilómetro cuadrado\", \"3. Hectárea\", \"4. Área\", \"5. Decímetro cuadrado\", \"6. Centímetro cuadrado\", \"7. Milímetro cuadrado\", \"8. Yarda cuadrada\", \"9. Pie cuadrado\", \"10. Pulgada cuadrada\"] #Area\n",
        "]\n",
        "def convertir(conversor, de, a, cantidad):\n",
        "  return valores[conversor][a]/valores[conversor][de] * cantidad\n",
        "\n",
        "print(\"*** MENU ***\")\n",
        "print(\"* 1. Monedas\")\n",
        "print(\"* 2. Longitud\")\n",
        "print(\"* 3. Masa\")\n",
        "print(\"* 4. Almacenamiento\")\n",
        "print(\"* 5. Tiempo\")\n",
        "print(\"* 6. Volumen\")\n",
        "print(\"* 7. Area\")\n",
        "conversor = int(input(\"Conversor: \"))\n",
        "\n",
        "print( etiquetas[conversor] )\n",
        "\n",
        "de = int(input(\"DE: \"))\n",
        "a = int(input(\"A: \"))\n",
        "cantidad = float(input(\"Cant: \"))\n",
        "\n",
        "print(\"Respuesta: \", convertir(conversor, de, a, cantidad) )\n"
      ]
    },
    {
      "cell_type": "markdown",
      "metadata": {
        "id": "kxBplEz_KBTP"
      },
      "source": [
        "#Ejercio 5"
      ]
    },
    {
      "cell_type": "code",
      "execution_count": null,
      "metadata": {
        "id": "KCzkFRuQKEW0"
      },
      "outputs": [],
      "source": [
        "etique = [\n",
        "    0,\n",
        "    [\"Seleccione lo que desea convertir\", \"1. Caja\", \"2. Unidades\"],\n",
        "    [\"Seleccione lo que desea convertir\", \"1. Saco\", \"2. Libras\"],\n",
        "    [\"Seleccione lo que desea convertir\", \"1. Fardo\", \"2. Unidades\"]\n",
        "    ]\n",
        "\n",
        "valor = [0,\n",
        "  [0, 1, 25],\n",
        "  [0, 1, 50],\n",
        "  [0, 1, 5],\n",
        " \n",
        "]"
      ]
    },
    {
      "cell_type": "code",
      "execution_count": null,
      "metadata": {
        "id": "-p_q_8elKhjd"
      },
      "outputs": [],
      "source": [
        "def convertir(opcion, de, a, cantidad):\n",
        "  return valor[opcion][a] / valor[opcion][de] * cantidad"
      ]
    },
    {
      "cell_type": "code",
      "execution_count": null,
      "metadata": {
        "colab": {
          "base_uri": "https://localhost:8080/"
        },
        "id": "ginAbNc4KbOP",
        "outputId": "95973bdb-a798-47c9-e84d-36047faf998e"
      },
      "outputs": [
        {
          "name": "stdout",
          "output_type": "stream",
          "text": [
            "** MENU DE CONVERSORES **\n",
            "1. Cajas/Unidades\n",
            "2. Saco/Libras\n",
            "3. Fardo/Unidades\n",
            "Opcion: 3\n",
            "['Seleccione lo que desea convertir', '1. Fardo', '2. Unidades']\n",
            "DE: 1\n",
            "A: 2\n",
            "Cantidad: 60\n",
            "1. Fardo  en  2. Unidades  equivale a:  300.0\n"
          ]
        }
      ],
      "source": [
        "print(\"** MENU DE CONVERSORES **\")\n",
        "print(\"1. Cajas/Unidades\")\n",
        "print(\"2. Saco/Libras\")\n",
        "print(\"3. Fardo/Unidades\")\n",
        "\n",
        "opcion = int(input(\"Opcion: \"))\n",
        "\n",
        "print( etique[opcion] )\n",
        "de = int(input(\"DE: \"))\n",
        "\n",
        "a = int(input(\"A: \"))\n",
        "cantidad = float(input(\"Cantidad: \"))\n",
        "\n",
        "print( etique[opcion][de], \" en \", etique[opcion][a], \" equivale a: \", convertir(opcion, de, a, cantidad) )"
      ]
    },
    {
      "cell_type": "markdown",
      "metadata": {
        "id": "-79u4I3P17pP"
      },
      "source": [
        "#Estructura de control"
      ]
    },
    {
      "cell_type": "code",
      "execution_count": null,
      "metadata": {
        "colab": {
          "base_uri": "https://localhost:8080/"
        },
        "id": "9-N9pX16pwFP",
        "outputId": "161f8332-1652-4c1a-a9d3-21a08a6c05d3"
      },
      "outputs": [
        {
          "name": "stdout",
          "output_type": "stream",
          "text": [
            "Dime tu edad: 135\n",
            "Edad incorrecta\n",
            "Termino\n"
          ]
        }
      ],
      "source": [
        "edad=int(input(\"Dime tu edad: \"))\n",
        "if(    edad<=2):\n",
        "  print(\"Eres un bebé\")\n",
        "elif(   edad<12):\n",
        "    print(\"Eres un niño\")\n",
        "elif ( edad<18 ):\n",
        "  print(\"Eres un adolecete\")\n",
        "elif(  edad<=55):\n",
        "  print(\"Eres un adolto joven\")\n",
        "elif(  edad<=65):\n",
        "  print(\"Eres un adolto\")\n",
        "elif(  edad<=85):\n",
        "  print(\"Eres adulto mayor\")\n",
        "elif(  edad<=130):\n",
        "  print(\"Larga vida...\")\n",
        "else:\n",
        "  print(\"Edad incorrecta\")\n",
        "print(\"Termino\")\n"
      ]
    },
    {
      "cell_type": "code",
      "execution_count": null,
      "metadata": {
        "colab": {
          "base_uri": "https://localhost:8080/"
        },
        "id": "TyyOlMo6xUKg",
        "outputId": "6092cb9b-7a2b-47db-dc3c-0d96a8b0b52c"
      },
      "outputs": [
        {
          "name": "stdout",
          "output_type": "stream",
          "text": [
            "Dime la tabla: 10\n",
            "10 X 1 = 10\n",
            "10 X 2 = 20\n",
            "10 X 3 = 30\n",
            "10 X 4 = 40\n",
            "10 X 5 = 50\n",
            "10 X 6 = 60\n",
            "10 X 7 = 70\n",
            "10 X 8 = 80\n",
            "10 X 9 = 90\n",
            "10 X 10 = 100\n"
          ]
        }
      ],
      "source": [
        "#Hacer un programa que genere la tabla de multiplicar de X numero ingresado por el User\n",
        "nt= int(input(\"Dime la tabla: \"))\n",
        "i=1\n",
        "while i<=10:\n",
        "  print(nt, \"X\",i,\"=\",nt*i)\n",
        "  i+=1"
      ]
    },
    {
      "cell_type": "code",
      "execution_count": null,
      "metadata": {
        "colab": {
          "base_uri": "https://localhost:8080/"
        },
        "id": "F95zBsPEx9yh",
        "outputId": "6401b7fd-293a-4a73-f125-d1179819ec59"
      },
      "outputs": [
        {
          "name": "stdout",
          "output_type": "stream",
          "text": [
            "Dime la tabla que deseas generar: 5\n",
            "5 X 1 = 5\n",
            "5 X 2 = 10\n",
            "5 X 3 = 15\n",
            "5 X 4 = 20\n",
            "5 X 5 = 25\n",
            "5 X 6 = 30\n",
            "5 X 7 = 35\n",
            "5 X 8 = 40\n",
            "5 X 9 = 45\n",
            "5 X 10 = 50\n"
          ]
        }
      ],
      "source": [
        "#Hacer un programa que genere la tabla de multiplicar de X numero ingresado por el User\n",
        "nt= int(input(\"Dime la tabla que deseas generar: \"))\n",
        "for i in range(1,11):  #i<11\n",
        "  print(nt,\"X\",i,\"=\",nt*i)"
      ]
    },
    {
      "cell_type": "code",
      "execution_count": null,
      "metadata": {
        "colab": {
          "base_uri": "https://localhost:8080/"
        },
        "id": "SFV58Y_S0K45",
        "outputId": "7ac1a9d5-db6c-4c04-a167-949a3812694e"
      },
      "outputs": [
        {
          "name": "stdout",
          "output_type": "stream",
          "text": [
            "Dime una tabla: 5\n",
            "X 1 = 5\n",
            "X 2 = 10\n",
            "X 3 = 15\n",
            "X 4 = 20\n",
            "X 5 = 25\n",
            "X 6 = 30\n",
            "X 7 = 35\n",
            "X 8 = 40\n",
            "X 9 = 45\n",
            "X 10 = 50\n",
            "Desea continuar presione la tecla S: s\n",
            "Dime una tabla: 7\n",
            "X 1 = 7\n",
            "X 2 = 14\n",
            "X 3 = 21\n",
            "X 4 = 28\n",
            "X 5 = 35\n",
            "X 6 = 42\n",
            "X 7 = 49\n",
            "X 8 = 56\n",
            "X 9 = 63\n",
            "X 10 = 70\n",
            "Desea continuar presione la tecla S: s\n",
            "Dime una tabla: 4\n",
            "X 1 = 4\n",
            "X 2 = 8\n",
            "X 3 = 12\n",
            "X 4 = 16\n",
            "X 5 = 20\n",
            "X 6 = 24\n",
            "X 7 = 28\n",
            "X 8 = 32\n",
            "X 9 = 36\n",
            "X 10 = 40\n",
            "Desea continuar presione la tecla S: n\n"
          ]
        }
      ],
      "source": [
        "#Hacer un programa que genere la tabla de multiplicar de X numero ingresado por el User\n",
        "s=\"s\"\n",
        "while(s==\"s\"):\n",
        "  nt= int(input(\"Dime una tabla: \"))\n",
        "  for i in range(1,11):\n",
        "    print(\"X\",i,\"=\",nt*i)\n",
        "  s=input(\"Desea continuar presione la tecla S: \")\n",
        "\n",
        "\n"
      ]
    },
    {
      "cell_type": "markdown",
      "metadata": {
        "id": "TA9MaDiT0HVd"
      },
      "source": [
        "### Cajero Automatico "
      ]
    },
    {
      "cell_type": "code",
      "execution_count": null,
      "metadata": {
        "colab": {
          "base_uri": "https://localhost:8080/"
        },
        "id": "fX_Q2ono0LK7",
        "outputId": "b8a43f67-9476-425e-f5b7-01b8b621b615"
      },
      "outputs": [
        {
          "name": "stdout",
          "output_type": "stream",
          "text": [
            "Cantidad a extraer: 10\n",
            "Billetes de 100:  0\n",
            "Billetes de 50: 0\n",
            "Billetes de 20: 0\n",
            "Billetes de 10: 1\n",
            "Billetes de 5: 0\n",
            "Billetes de 1: 0\n",
            "Centavo de 1: 0\n"
          ]
        }
      ],
      "source": [
        "carga100 = 100\n",
        "carga50 = 100\n",
        "carga20 = 100\n",
        "carga10 = 100\n",
        "carga5 = 100\n",
        "carga1= 100\n",
        "carga01=0.100\n",
        "def sacar_dinero(cantidad):\n",
        "  global carga100, carga50, carga20, carga10, carga5,carga1,carga01\n",
        "  if cantidad <= 100 * carga100 + 50 * carga50 + 20 * carga20 + 10 * carga10 + 5 * carga5 + 1 * carga1 + 0.1 *carga01:\n",
        "    de100 = int(cantidad/100)\n",
        "    cantidad = cantidad % 100\n",
        "    if de100 >= carga100: # y hay suficiebtes billetes de 100\n",
        "        cantidad = cantidad + (de100 - carga100) * 100\n",
        "        de100 = carga100\n",
        " \n",
        "    de50 = int(cantidad / 50)\n",
        "    cantidad = cantidad % 50\n",
        "    if de50 >= carga50: # Si hay suficientes billetes de 50\n",
        "      cantidad = cantidad + (de50 - carga50) * 50\n",
        "      de50 = carga50\n",
        " \n",
        "    de20 = int(cantidad / 20)\n",
        "    cantidad = cantidad % 20\n",
        "    if de20 >= carga20: # y hay suficientes billetes de 20\n",
        "      cantidad = cantidad + (de20 - carga20) * 20\n",
        "      de20 = carga20\n",
        " \n",
        "    de10 = int(cantidad / 10)\n",
        "    cantidad = cantidad % 10\n",
        "    if de10 >= carga10: # y hay suficientes billetes de 10\n",
        "      cantidad = cantidad + (de10 - carga10) * 10\n",
        "      de10 = carga10\n",
        " \n",
        "    de5 = int(cantidad / 5)\n",
        "    cantidad = cantidad % 5\n",
        "    if de5  >= carga5: # y hay suficientes billetes de 5\n",
        "        cantidad = cantidad + (de5 - carga5) * 5\n",
        "        de5 = carga5\n",
        " \n",
        "    de1 = int(cantidad / 1)\n",
        "    cantidad = cantidad % 1\n",
        "    if de1  >= carga1: # y hay suficientes billetes de 1\n",
        "        cantidad = cantidad + (de1 - carga1) * 1\n",
        "        de1 = carga1\n",
        "\n",
        "    de01 = int(cantidad / 0.1)\n",
        "    cantidad = cantidad % 0.1\n",
        "    if de01  >= carga01: # y hay suficientes monedas de 0.1\n",
        "        cantidad = cantidad + (de01 - carga01) * 0.1\n",
        "        de01 = carga01\n",
        " \n",
        "    # Si todo ha ido bien, la cantidad que resta por entregar es nula:\n",
        "    if cantidad == 0:\n",
        "      # Así que hacemos efectiva la extracción\n",
        "      carga100= carga100 - de100\n",
        "      carga50 = carga50 - de50\n",
        "      carga20 = carga20 - de20\n",
        "      carga10 = carga10 - de10\n",
        "      carga5 = carga5 - de5\n",
        "      carga1 = carga1-de1\n",
        "      carga01 = carga01-de01\n",
        "      return [de100, de50, de20, de10, de5,de1,de01]\n",
        "    else: # Y si no, devolvemos la lista con cinco ceros:\n",
        "      return [0, 0, 0, 0, 0,0,0]\n",
        "  else:\n",
        "    return [-1, -1, -1, -1, -1, -1, -1]\n",
        " \n",
        "try:\n",
        "    c = float (input('Cantidad a extraer: '))\n",
        "    resultado=sacar_dinero(c)\n",
        "    if resultado==[0,0,0,0,0,0,0]:\n",
        "        print ('No hay desglose de billetes para su importe')\n",
        "    elif resultado==[-1,-1,-1,-1,-1, -1, -1]:\n",
        "        print ('No hay suficientes billetes')\n",
        "    else:\n",
        "        print ('Billetes de 100: ', resultado[0])\n",
        "        print ('Billetes de 50:', resultado[1])\n",
        "        print ('Billetes de 20:', resultado[2])\n",
        "        print ('Billetes de 10:', resultado[3])\n",
        "        print ('Billetes de 5:', resultado [4])\n",
        "        print ('Billetes de 1:', resultado [5])\n",
        "        print ('Centavo de 1:', resultado [6])\n",
        "except:\n",
        "    print ('Importe incorrecto')"
      ]
    },
    {
      "cell_type": "markdown",
      "metadata": {
        "id": "z7o5Gc6i6H7p"
      },
      "source": [
        "07/09/22\n"
      ]
    },
    {
      "cell_type": "code",
      "execution_count": null,
      "metadata": {
        "colab": {
          "base_uri": "https://localhost:8080/"
        },
        "id": "NRiUv-yO5EdU",
        "outputId": "96830d54-99d8-424d-8023-33c7ce3ee906"
      },
      "outputs": [
        {
          "name": "stdout",
          "output_type": "stream",
          "text": [
            "Hola Fernando Gonzalez\n",
            "Respuesta 9.6\n"
          ]
        }
      ],
      "source": [
        "#POLIMORFISMO\n",
        "#El poliformismo o tiene el signo (objeto)+\n",
        "nombre=  \"Fernando Gonzalez\"\n",
        "saludo= \"Hola \" +  nombre\n",
        "print(saludo)\n",
        "\n",
        "num1= 5\n",
        "num2=4.6\n",
        "resp=num1 + num2\n",
        "mensaje= \"Respuesta \" +  str(resp)\n",
        "print (mensaje)\n",
        "\n",
        "#VB\n",
        "#num1= 5 #Asignacion\n",
        "#if num1= 5: #Comparacion\n",
        "#  print(\"La variable num1 es igual a 5\")\n"
      ]
    },
    {
      "cell_type": "code",
      "execution_count": null,
      "metadata": {
        "colab": {
          "base_uri": "https://localhost:8080/"
        },
        "id": "-Wj1F4hA_iYx",
        "outputId": "537b9844-e936-4824-9b3a-6fd2083d4dac"
      },
      "outputs": [
        {
          "name": "stdout",
          "output_type": "stream",
          "text": [
            "pip 21.1.3 from /usr/local/lib/python3.7/dist-packages/pip (python 3.7)\n",
            "pip 21.1.3 from /usr/local/lib/python3.7/dist-packages/pip (python 3.7)\n"
          ]
        }
      ],
      "source": [
        "!pip --version\n",
        "!pip -V"
      ]
    },
    {
      "cell_type": "markdown",
      "metadata": {
        "id": "lzOsvqeS0FiW"
      },
      "source": [
        "#09-09-22"
      ]
    },
    {
      "cell_type": "code",
      "execution_count": null,
      "metadata": {
        "id": "XT1QZvz80IC1"
      },
      "outputs": [],
      "source": [
        "#POO\n",
        "\n",
        "class deducciones():\n",
        "  def __init__(self, sueldo, porcentajeIsss, porcentajeAFP, tablaIsr):\n",
        "    self.sueldo = sueldo\n",
        "    self.porcentajeIsss = porcentajeIsss\n",
        "    self.porcentajeAFP = porcentajeAFP\n",
        "    self.tablaIsr = tablaIsr"
      ]
    },
    {
      "cell_type": "code",
      "execution_count": null,
      "metadata": {
        "id": "bxL1q_sI09E5"
      },
      "outputs": [],
      "source": [
        "def calcularIsss(self):\n",
        "  return self.sueldo *self.porcentajeIsss/100\n",
        "  \n",
        "def calcularAFP(self):\n",
        "  return self.suelfo * self.porcentajeAFP/100\n",
        "\n",
        "def calcularIsr(self):\n",
        "     self.sueldoNeto = self.sueldo- (self.calcularIsss() + self.calcularAFP())\n",
        "     Isr = 0\n",
        "     for tramo in self.tablaIsr:\n",
        "      self.sueldoNeto  >=tramo[0]and self.sueldoNeto<= tramo[1]\n",
        "      Isr=(self.sueldoNeto - tramo[0])*tramo[2]+tramo[3]\n",
        "      return Isr"
      ]
    },
    {
      "cell_type": "code",
      "execution_count": null,
      "metadata": {
        "id": "5CnDzJ5o2Mks"
      },
      "outputs": [],
      "source": [
        "#Personas\n",
        "porcentajeIsssP = 3  #puede venir de una BD\n",
        "porcentajeAFPp = 6.25\n",
        "tablaIsrP = [\n",
        "     [00.1, 472, 0, 0],              #Tramo I\n",
        "\t [472.01, 895.24, 0.1, 17.67, ], #Tramo II\n",
        "\t [895.25, 2038.10, 0.2, 60] ,    #Tramo III\n",
        "\t [2038.11, 99999, 0.3, 2088.57], #Tramo IV\n",
        "]"
      ]
    },
    {
      "cell_type": "code",
      "execution_count": null,
      "metadata": {
        "id": "bTIu1SRR2Rbi"
      },
      "outputs": [],
      "source": [
        "#Empresas\n",
        "porcentajeIsssE = 7.5\n",
        "porcentajeAFPE = 7.75\n",
        "\n",
        "sueldo = float(input(\"Sueldo: \"))\n",
        "de = deducciones(sueldo, porcentajeIsssE)\n",
        "dp = deducciones(sueldo, porcentajeIsssP)\n",
        "\n",
        "print(\"Isss - Persona: \",dp.calcularIsssP(), \"Isss - Empresa: \", de.calcularIsss(), \"Isr - Persona: \",dp.calcularIsr())\n",
        "print(\"AFP- Persona: \",dp.calcularAFPp(), \"AFP - Empresa: \",de.calcularAFPE())"
      ]
    },
    {
      "cell_type": "markdown",
      "metadata": {
        "id": "6YfHKiNmtYpB"
      },
      "source": [
        "#14-09-22"
      ]
    },
    {
      "cell_type": "code",
      "execution_count": null,
      "metadata": {
        "colab": {
          "base_uri": "https://localhost:8080/"
        },
        "id": "vJGbEtZ8xr0r",
        "outputId": "289c5ca9-b814-4ad3-fb15-a3b801d41049"
      },
      "outputs": [
        {
          "name": "stdout",
          "output_type": "stream",
          "text": [
            "9 1\n"
          ]
        }
      ],
      "source": [
        "lenguajes = [\"VB\", \"C#\", \"JAVA\",\"XML\",\"PYTHON\",\"PHP\",\"HTLM\",\"JS\",\"CSS\"]\n",
        "print(len(lenguajes), lenguajes.count(\"VB\"))"
      ]
    },
    {
      "cell_type": "code",
      "execution_count": null,
      "metadata": {
        "colab": {
          "base_uri": "https://localhost:8080/"
        },
        "id": "G9gAMbP47Bu_",
        "outputId": "0c854e41-9f7f-4350-949d-69fddf98b79e"
      },
      "outputs": [
        {
          "name": "stdout",
          "output_type": "stream",
          "text": [
            "VB <class 'str'>\n",
            "C# <class 'str'>\n",
            "['JAVA', 'XML'] <class 'list'>\n",
            "['PYTHON', 'HTML', 'JS', 'CSS'] <class 'list'>\n",
            "['PHP', 'HTML', 'JS', 'CSS'] <class 'list'>\n"
          ]
        }
      ],
      "source": [
        "lenguajes = {\n",
        "    \"Fundamentos: \":\"VB\",\n",
        "    \"Programacion_I\": \"C#\",\n",
        "    \"Prgramacion_II\":[\"JAVA\", \"XML\"],\n",
        "    \"Programacion_III\":[\"PYTHON\",\"HTML\",\"JS\",\"CSS\"],\n",
        "    \"Programacion_IV\":[\"PHP\",\"HTML\",\"JS\",\"CSS\"],\n",
        "}\n",
        "#print(len(lenguajes[\"Programacion_III\"]))\n",
        "for key in lenguajes:\n",
        "  print(lenguajes[key], type(lenguajes[key]))"
      ]
    },
    {
      "cell_type": "code",
      "execution_count": null,
      "metadata": {
        "id": "__ULrg9L8piG"
      },
      "outputs": [],
      "source": [
        "#Libreria Pandad\n",
        "import pandas as pd"
      ]
    },
    {
      "cell_type": "code",
      "execution_count": null,
      "metadata": {
        "colab": {
          "base_uri": "https://localhost:8080/"
        },
        "id": "yp2rKnkx8wLL",
        "outputId": "c54504a9-9d58-4d97-f38a-2ea99cb2aa21"
      },
      "outputs": [
        {
          "name": "stdout",
          "output_type": "stream",
          "text": [
            "5        VB\n",
            "1        C#\n",
            "2      JAVA\n",
            "2       XML\n",
            "3    PYTHON\n",
            "4       PHP\n",
            "4      HTLM\n",
            "4        JS\n",
            "4       CSS\n",
            "dtype: object\n"
          ]
        }
      ],
      "source": [
        "lenguajes= pd.Series(\n",
        "    [\"VB\", \"C#\", \"JAVA\",\"XML\",\"PYTHON\",\"PHP\",\"HTLM\",\"JS\",\"CSS\"],\n",
        "    index=[5,1,2,2,3,4,4,4,4]\n",
        ")\n",
        "print(lenguajes)"
      ]
    },
    {
      "cell_type": "code",
      "execution_count": null,
      "metadata": {
        "colab": {
          "base_uri": "https://localhost:8080/"
        },
        "id": "NQl3YXxf-Rsw",
        "outputId": "37141f54-aef6-4026-a7ad-a30ae0c5739b"
      },
      "outputs": [
        {
          "name": "stdout",
          "output_type": "stream",
          "text": [
            "VB\n"
          ]
        }
      ],
      "source": [
        "lenguajes = {\n",
        "    \"fundamentos\":\"VB\",\n",
        "    1:\"C#\",\n",
        "    2:\"JAVA\"\n",
        "}\n",
        "pdLenguajes = pd.Series(lenguajes)\n",
        "print(pdLenguajes[\"fundamentos\"])"
      ]
    },
    {
      "cell_type": "markdown",
      "metadata": {
        "id": "cLjUD2iBE6eJ"
      },
      "source": [
        "#28-09-22"
      ]
    },
    {
      "cell_type": "code",
      "execution_count": null,
      "metadata": {
        "colab": {
          "base_uri": "https://localhost:8080/"
        },
        "id": "pgUEtUjsE8q3",
        "outputId": "9dccf008-10c3-451b-9e84-364f94a1bf30"
      },
      "outputs": [
        {
          "name": "stdout",
          "output_type": "stream",
          "text": [
            "/bin/bash: pip-install-tensorflow: command not found\n"
          ]
        }
      ],
      "source": [
        "!pip-install-tensorflow"
      ]
    },
    {
      "cell_type": "code",
      "execution_count": null,
      "metadata": {
        "id": "bcqjTBHBF5X_"
      },
      "outputs": [],
      "source": [
        "import tensorflow as tf"
      ]
    },
    {
      "cell_type": "code",
      "execution_count": null,
      "metadata": {
        "colab": {
          "base_uri": "https://localhost:8080/"
        },
        "id": "5_aUEQ5aF_19",
        "outputId": "5bf29ff8-98a1-4eda-eed4-d91237d3aa34"
      },
      "outputs": [
        {
          "name": "stdout",
          "output_type": "stream",
          "text": [
            "8\n"
          ]
        }
      ],
      "source": [
        "suma = tf.add(3,5).numpy()\n",
        "print(suma)"
      ]
    },
    {
      "cell_type": "code",
      "execution_count": null,
      "metadata": {
        "colab": {
          "base_uri": "https://localhost:8080/"
        },
        "id": "MrYXtdW2GUyu",
        "outputId": "97390a83-6c36-4299-afc1-5089f86e17eb"
      },
      "outputs": [
        {
          "name": "stdout",
          "output_type": "stream",
          "text": [
            "8\n"
          ]
        }
      ],
      "source": [
        "x=3\n",
        "y=5\n",
        "z=x+y\n",
        "print(z)\n"
      ]
    },
    {
      "cell_type": "markdown",
      "metadata": {
        "id": "JtF0vnlP6UZ4"
      },
      "source": [
        "#30-09-22 \n"
      ]
    },
    {
      "cell_type": "markdown",
      "metadata": {
        "id": "YknZrMqpKKIh"
      },
      "source": [
        "#Entrenamiento de un IA para que aprenda a convertit temperaturas de C° a F°"
      ]
    },
    {
      "cell_type": "code",
      "execution_count": null,
      "metadata": {
        "id": "CWvvGPq06Wr7"
      },
      "outputs": [],
      "source": [
        "#importar las librerias\n",
        "import tensorflow as tf\n",
        "import matplotlib.pyplot as plt\n",
        "import pandas as pd\n",
        "import seaborn as sb"
      ]
    },
    {
      "cell_type": "code",
      "execution_count": null,
      "metadata": {
        "id": "y4VeOTaH_ZRe"
      },
      "outputs": [],
      "source": [
        "temperaturas = pd.read_csv('/content/Temperaturas.csv', sep=\";\")\n",
        "print(temperaturas)"
      ]
    },
    {
      "cell_type": "code",
      "execution_count": null,
      "metadata": {
        "id": "S8WQ43QaAi2i"
      },
      "outputs": [],
      "source": [
        "#datos de entrenamiento\n",
        "c = temperaturas [\"c\"]\n",
        "f = temperaturas[\"f\"]"
      ]
    },
    {
      "cell_type": "code",
      "execution_count": null,
      "metadata": {
        "id": "qWl5GCU9AzXY"
      },
      "outputs": [],
      "source": [
        "#graficar los datos de entrenamiento\n",
        "sb.scatterplot(c,f)\n",
        "plt.show()"
      ]
    },
    {
      "cell_type": "code",
      "execution_count": null,
      "metadata": {
        "id": "C0Tp1SmcBMKj"
      },
      "outputs": [],
      "source": [
        "##modelo de entrenamiento, con 1 capa densa (Oculta)\n",
        "modelo = tf.keras.Sequential()\n",
        "modelo.add(tf.keras.layers.Dense(units=1, input_shape=[1]))"
      ]
    },
    {
      "cell_type": "code",
      "execution_count": null,
      "metadata": {
        "id": "lydXCoAmCLu7"
      },
      "outputs": [],
      "source": [
        "#compilar el modelo\n",
        "modelo.compile(optimizer=tf.keras.optimizers.Adam(1), loss=\"mean_squared_error\")"
      ]
    },
    {
      "cell_type": "code",
      "execution_count": null,
      "metadata": {
        "id": "VByu8FA4EkSk"
      },
      "outputs": [],
      "source": [
        "#entrenar el modelo\n",
        "epocas = modelo.fit(f,c, epochs=400, verbose=0)"
      ]
    },
    {
      "cell_type": "code",
      "execution_count": null,
      "metadata": {
        "colab": {
          "base_uri": "https://localhost:8080/"
        },
        "id": "DX63HhbGFH8i",
        "outputId": "5611eb97-8cfa-48ff-faf2-57a72e14250e"
      },
      "outputs": [
        {
          "name": "stdout",
          "output_type": "stream",
          "text": [
            "[[27.]]\n"
          ]
        }
      ],
      "source": [
        "#probar nuestra IA\n",
        "resp = modelo.predict([80.6])\n",
        "print(resp)"
      ]
    },
    {
      "cell_type": "markdown",
      "metadata": {
        "id": "wfVnf8g8JTRA"
      },
      "source": [
        "#Entrenamiento de un IA para que aprenda a convertit temperaturas de C° a K°"
      ]
    },
    {
      "cell_type": "code",
      "execution_count": null,
      "metadata": {
        "id": "s0qvZH_pGxB7"
      },
      "outputs": [],
      "source": [
        "temperaturasCaK = pd.read_csv('/content/temperaturas cak.csv', sep=\";\")\n",
        "print(temperaturasCaK)"
      ]
    },
    {
      "cell_type": "code",
      "execution_count": null,
      "metadata": {
        "id": "E0mfLMgGJEjO"
      },
      "outputs": [],
      "source": [
        "c = temperaturasCaK [\"c\"]\n",
        "k = temperaturasCaK[\"k\"]"
      ]
    },
    {
      "cell_type": "code",
      "execution_count": null,
      "metadata": {
        "id": "L47VLw8dJMuN"
      },
      "outputs": [],
      "source": [
        "sb.scatterplot(c,k)\n",
        "plt.show()"
      ]
    },
    {
      "cell_type": "code",
      "execution_count": null,
      "metadata": {
        "id": "ze5swIhOJX0E"
      },
      "outputs": [],
      "source": [
        "modelo = tf.keras.Sequential()\n",
        "modelo.add(tf.keras.layers.Dense(units=1, input_shape=[1]))"
      ]
    },
    {
      "cell_type": "code",
      "execution_count": null,
      "metadata": {
        "id": "yKhLjOacJcV3"
      },
      "outputs": [],
      "source": [
        "modelo.compile(optimizer=tf.keras.optimizers.Adam(1), loss=\"mean_squared_error\")"
      ]
    },
    {
      "cell_type": "code",
      "execution_count": null,
      "metadata": {
        "id": "bkuCXZMyJvdb"
      },
      "outputs": [],
      "source": [
        "epocas = modelo.fit(c,k, epochs=400, verbose=0)"
      ]
    },
    {
      "cell_type": "code",
      "execution_count": null,
      "metadata": {
        "colab": {
          "base_uri": "https://localhost:8080/"
        },
        "id": "xrL1KaLsJ2k4",
        "outputId": "5ff31738-0c40-4de9-c9df-1dcc07ee34db"
      },
      "outputs": [
        {
          "name": "stdout",
          "output_type": "stream",
          "text": [
            "[[313.1467]]\n"
          ]
        }
      ],
      "source": [
        "resp = modelo.predict([40])\n",
        "print(resp)"
      ]
    },
    {
      "cell_type": "markdown",
      "metadata": {
        "id": "WWBAz7HE9J1g"
      },
      "source": [
        "#07-10-2022"
      ]
    },
    {
      "cell_type": "code",
      "execution_count": 35,
      "metadata": {
        "id": "BxfrhSCR9Mw1"
      },
      "outputs": [],
      "source": [
        "#1. Importar las librerias.\n",
        "import tensorflow as tf\n",
        "import matplotlib.pyplot as plt\n",
        "import numpy as np\n",
        "import math\n",
        "import tensorflow_datasets as tfds"
      ]
    },
    {
      "cell_type": "code",
      "execution_count": 36,
      "metadata": {
        "id": "1M41kK1I97SM"
      },
      "outputs": [],
      "source": [
        "#2. Cargamos el dataset\n",
        "dataset, metadata = tfds.load('mnist', as_supervised=True, with_info=True)\n",
        "#print(dataset[\"train\"])\n",
        "datos_entrenamiento, datos_prueba = dataset[\"train\"], dataset[\"test\"]"
      ]
    },
    {
      "cell_type": "code",
      "execution_count": null,
      "metadata": {
        "id": "wWwDtDvn-HYG"
      },
      "outputs": [],
      "source": [
        "#monstrar una imagen...\n",
        "for img in datos_entrenamiento.take(1):\n",
        "  print(img)\n",
        "  img = img[0].numpy().reshape(1,28,28,1)\n",
        "  plt.grid(False)\n",
        "  plt.imshow(img[0, ..., 0], cmap=plt.cm.binary)"
      ]
    },
    {
      "cell_type": "code",
      "execution_count": 38,
      "metadata": {
        "id": "tSLCn95v-Lsk"
      },
      "outputs": [],
      "source": [
        "#3. #asignar las etiquetas son 10\n",
        "numeros_letras = [\"Cero\", \"Uno\", \"Dos\", \"Tres\", \"Cuatro\", \"Cinco\", \"Seis\", \"Siete\", \"Ocho\", \"Nueve\"]"
      ]
    },
    {
      "cell_type": "code",
      "execution_count": 39,
      "metadata": {
        "colab": {
          "base_uri": "https://localhost:8080/"
        },
        "id": "0JTEKXXM-Oag",
        "outputId": "5165c66d-3db7-4150-f791-91cba56587f2"
      },
      "outputs": [
        {
          "name": "stdout",
          "output_type": "stream",
          "text": [
            "60000 10000\n"
          ]
        }
      ],
      "source": [
        "#4. obtener la cantidad de datos.\n",
        "#print(metadata)\n",
        "cantidad_numeros_entrenamiento = metadata.splits[\"train\"].num_examples\n",
        "cantidad_numeros_prueba = metadata.splits[\"test\"].num_examples\n",
        "print(cantidad_numeros_entrenamiento, cantidad_numeros_prueba)"
      ]
    },
    {
      "cell_type": "code",
      "execution_count": 40,
      "metadata": {
        "id": "xLlbyTL9-ibK"
      },
      "outputs": [],
      "source": [
        "#5. funcion normalizadora de los pixeles de 0 - 255 que sean valores de 0 - 1\n",
        "def normalizacion(img, label):\n",
        "  img = tf.cast(img, tf.float32)\n",
        "  img /= 255 #236/255 = 0.004237288\n",
        "  return img, label"
      ]
    },
    {
      "cell_type": "code",
      "execution_count": 41,
      "metadata": {
        "id": "I-PYkopl-jex"
      },
      "outputs": [],
      "source": [
        "#6. Llamamos la funcion normlizadora\n",
        "datos_entrenamiento = datos_entrenamiento.map(normalizacion)\n",
        "datos_prueba = datos_prueba.map(normalizacion)\n",
        "\n",
        "#for img in datos_entrenamiento.take(1):\n",
        "  #print(img[0])#5.58150468e-08 => 0.0000000558150468"
      ]
    },
    {
      "cell_type": "code",
      "execution_count": 42,
      "metadata": {
        "id": "onNsoGOq_cXn"
      },
      "outputs": [],
      "source": [
        "#Definir modelo\n",
        "modelo = tf.keras.Sequential([\n",
        "    tf.keras.layers.Flatten(input_shape=(28,28,1)), #capa de entrada con 784 neuronas a un 1 canal, una por\n",
        "    tf.keras.layers.Dense(64,activation=tf.nn.relu), #capa oculta con 64 neuronas, con la funcion de activacion relu, nos devuelve valores entre 1 y 0\n",
        "    tf.keras.layers.Dense(64,activation=tf.nn.relu),\n",
        "    tf.keras.layers.Dense(10,activation=tf.nn.softmax) #la capa de salida tiene 10 neuronas, con la funcion de activacion softmax ideal para clasificacion\n",
        "])"
      ]
    },
    {
      "cell_type": "code",
      "execution_count": 43,
      "metadata": {
        "id": "y0HXSy1PCfzT"
      },
      "outputs": [],
      "source": [
        "#Compilaciond el modelo\n",
        "modelo.compile(\n",
        "    optimizer=\"adam\",\n",
        "    loss=\"sparse_categorical_crossentropy\",\n",
        "    metrics=['accuracy']\n",
        ")"
      ]
    },
    {
      "cell_type": "code",
      "execution_count": 44,
      "metadata": {
        "id": "3kGgxrz8EcVj"
      },
      "outputs": [],
      "source": [
        "#entrenamiento de la red neuronal\n",
        "size_lote = 32 #60,000 / 32 = 1875\n",
        "datos_entrenamiento = datos_entrenamiento.repeat().shuffle(cantidad_numeros_entrenamiento).batch(size_lote)\n",
        "datos_prueba = datos_prueba.repeat().shuffle(cantidad_numeros_prueba).batch(size_lote)"
      ]
    },
    {
      "cell_type": "code",
      "execution_count": 45,
      "metadata": {
        "colab": {
          "base_uri": "https://localhost:8080/"
        },
        "id": "Y3yvjo8FFABq",
        "outputId": "a1d91aeb-4cb0-40a1-eeb8-ec0f5a5b3a29"
      },
      "outputs": [
        {
          "name": "stdout",
          "output_type": "stream",
          "text": [
            "Epoch 1/5\n",
            "1875/1875 [==============================] - 18s 5ms/step - loss: 0.2699 - accuracy: 0.9223\n",
            "Epoch 2/5\n",
            "1875/1875 [==============================] - 7s 4ms/step - loss: 0.1209 - accuracy: 0.9640\n",
            "Epoch 3/5\n",
            "1875/1875 [==============================] - 9s 5ms/step - loss: 0.0897 - accuracy: 0.9721\n",
            "Epoch 4/5\n",
            "1875/1875 [==============================] - 7s 4ms/step - loss: 0.0705 - accuracy: 0.9780\n",
            "Epoch 5/5\n",
            "1875/1875 [==============================] - 7s 4ms/step - loss: 0.0583 - accuracy: 0.9819\n"
          ]
        },
        {
          "data": {
            "text/plain": [
              "<keras.callbacks.History at 0x7f6d5166df10>"
            ]
          },
          "execution_count": 45,
          "metadata": {},
          "output_type": "execute_result"
        }
      ],
      "source": [
        "#Realizamos el entrenamiento\n",
        "modelo.fit(datos_entrenamiento,epochs = 5,\n",
        "           steps_per_epoch=math.ceil(cantidad_numeros_entrenamiento/size_lote))"
      ]
    },
    {
      "cell_type": "code",
      "execution_count": 54,
      "metadata": {
        "colab": {
          "base_uri": "https://localhost:8080/",
          "height": 296
        },
        "id": "2Xa-ym9aIgId",
        "outputId": "ff5ca8ea-bcf0-4dbe-a436-beb49adea51e"
      },
      "outputs": [
        {
          "name": "stdout",
          "output_type": "stream",
          "text": [
            "6 6\n"
          ]
        },
        {
          "data": {
            "image/png": "[encoded data removed]",
            "text/plain": [
              "<Figure size 432x288 with 1 Axes>"
            ]
          },
          "metadata": {
            "needs_background": "light"
          },
          "output_type": "display_data"
        }
      ],
      "source": [
        "#pendiente los pasos adicionales\n",
        "#probar la IA\n",
        "i=0\n",
        "for miImg, etiqueta in datos_entrenamiento.take(1):\n",
        "  etiqueta = etiqueta.numpy()\n",
        "  img = miImg[i].numpy().reshape(1,28,28,1)\n",
        "  prediccion = modelo.predict(img, batch_size=1)\n",
        "\n",
        "  valor_predicho = np.argmax(prediccion)\n",
        "  print(valor_predicho, etiqueta[i])\n",
        "\n",
        "  plt.grid(False)\n",
        "  plt.imshow(img[0,...,0], cmap =plt.cm.binary)\n",
        "  plt.xlabel(\"prediccion: {}\".format (numeros_letras [valor_predicho]),color=\"green\")"
      ]
    }
  ],
  "metadata": {
    "colab": {
      "collapsed_sections": [],
      "include_colab_link": true,
      "name": "Copia de Te damos la bienvenida a Colaboratory",
      "provenance": []
    },
    "kernelspec": {
      "display_name": "Python 3.10.5 64-bit",
      "language": "python",
      "name": "python3"
    },
    "language_info": {
      "name": "python",
      "version": "3.10.5"
    },
    "vscode": {
      "interpreter": {
        "hash": "2c8073f6c55762ff2ea7f2dd9767723d6b43a98010c7b62d1e4297dc14ee96d4"
      }
    }
  },
  "nbformat": 4,
  "nbformat_minor": 0
}
